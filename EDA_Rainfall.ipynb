{
 "cells": [
  {
   "cell_type": "markdown",
   "id": "045ff78d",
   "metadata": {},
   "source": [
    "### Import Libraries"
   ]
  },
  {
   "cell_type": "code",
   "execution_count": 1,
   "id": "d48e999f",
   "metadata": {},
   "outputs": [],
   "source": [
    "import numpy as np\n",
    "import pandas as pd\n",
    "import datetime as dt\n",
    "from os.path import join\n",
    "from scipy.io.wavfile import write\n",
    "import matplotlib.pyplot as plt"
   ]
  },
  {
   "cell_type": "markdown",
   "id": "ec43f167",
   "metadata": {},
   "source": [
    "### File paths and columns"
   ]
  },
  {
   "cell_type": "code",
   "execution_count": 5,
   "id": "8258270d",
   "metadata": {},
   "outputs": [],
   "source": [
    "RECORDING_DIR = \"recordings\"\n",
    "OUTPUT_DIR = \"output_wav\"\n",
    "MECH_READINGS_FILE = \"mechanical_sensor.csv\"\n",
    "SOUND_READINGS_FILE = \"sound_sensor.csv\""
   ]
  },
  {
   "cell_type": "code",
   "execution_count": 6,
   "id": "d8ded65b",
   "metadata": {},
   "outputs": [],
   "source": [
    "mech_cols = [\"date\", \"time\", \"ntipps\", \"rainfall (mm)\"]\n",
    "mech_cols_desired = [\"datetime\", \"ntipps\", \"rainfall (mm)\"]\n",
    "sound_cols = [\"date\", \"time\", \"sound\", \"loudness\"]\n",
    "sound_cols_desired = [\"datetime\", \"sound\", \"loudness\"]\n",
    "col_names = [\"raw_audio\", \"filtered_audio\"]"
   ]
  },
  {
   "cell_type": "markdown",
   "id": "75e39dcd",
   "metadata": {},
   "source": [
    "### Read files"
   ]
  },
  {
   "cell_type": "code",
   "execution_count": 7,
   "id": "27241659",
   "metadata": {},
   "outputs": [],
   "source": [
    "mech_file_path = join(RECORDING_DIR, MECH_READINGS_FILE)\n",
    "mech_data = pd.read_csv(mech_file_path, names=mech_cols)\n",
    "\n",
    "sound_file_path = join(RECORDING_DIR, SOUND_READINGS_FILE)\n",
    "sound_data = pd.read_csv(sound_file_path, names=sound_cols)"
   ]
  },
  {
   "cell_type": "code",
   "execution_count": 8,
   "id": "ed4fe13a",
   "metadata": {},
   "outputs": [
    {
     "data": {
      "text/html": [
       "<div>\n",
       "<style scoped>\n",
       "    .dataframe tbody tr th:only-of-type {\n",
       "        vertical-align: middle;\n",
       "    }\n",
       "\n",
       "    .dataframe tbody tr th {\n",
       "        vertical-align: top;\n",
       "    }\n",
       "\n",
       "    .dataframe thead th {\n",
       "        text-align: right;\n",
       "    }\n",
       "</style>\n",
       "<table border=\"1\" class=\"dataframe\">\n",
       "  <thead>\n",
       "    <tr style=\"text-align: right;\">\n",
       "      <th></th>\n",
       "      <th>date</th>\n",
       "      <th>time</th>\n",
       "      <th>ntipps</th>\n",
       "      <th>rainfall (mm)</th>\n",
       "    </tr>\n",
       "  </thead>\n",
       "  <tbody>\n",
       "    <tr>\n",
       "      <th>0</th>\n",
       "      <td>2023-10-3</td>\n",
       "      <td>22:37</td>\n",
       "      <td>0</td>\n",
       "      <td>0.00 mm</td>\n",
       "    </tr>\n",
       "    <tr>\n",
       "      <th>1</th>\n",
       "      <td>2023-10-3</td>\n",
       "      <td>22:38</td>\n",
       "      <td>0</td>\n",
       "      <td>0.00 mm</td>\n",
       "    </tr>\n",
       "    <tr>\n",
       "      <th>2</th>\n",
       "      <td>2023-10-3</td>\n",
       "      <td>22:39</td>\n",
       "      <td>0</td>\n",
       "      <td>0.00 mm</td>\n",
       "    </tr>\n",
       "    <tr>\n",
       "      <th>3</th>\n",
       "      <td>2023-10-3</td>\n",
       "      <td>22:40</td>\n",
       "      <td>0</td>\n",
       "      <td>0.00 mm</td>\n",
       "    </tr>\n",
       "    <tr>\n",
       "      <th>4</th>\n",
       "      <td>2023-10-3</td>\n",
       "      <td>22:43</td>\n",
       "      <td>0</td>\n",
       "      <td>0.00 mm</td>\n",
       "    </tr>\n",
       "    <tr>\n",
       "      <th>...</th>\n",
       "      <td>...</td>\n",
       "      <td>...</td>\n",
       "      <td>...</td>\n",
       "      <td>...</td>\n",
       "    </tr>\n",
       "    <tr>\n",
       "      <th>591</th>\n",
       "      <td>2023-10-4</td>\n",
       "      <td>8:30</td>\n",
       "      <td>0</td>\n",
       "      <td>0.00 mm</td>\n",
       "    </tr>\n",
       "    <tr>\n",
       "      <th>592</th>\n",
       "      <td>2023-10-4</td>\n",
       "      <td>8:31</td>\n",
       "      <td>0</td>\n",
       "      <td>0.00 mm</td>\n",
       "    </tr>\n",
       "    <tr>\n",
       "      <th>593</th>\n",
       "      <td>2023-10-4</td>\n",
       "      <td>8:32</td>\n",
       "      <td>0</td>\n",
       "      <td>0.00 mm</td>\n",
       "    </tr>\n",
       "    <tr>\n",
       "      <th>594</th>\n",
       "      <td>2023-10-4</td>\n",
       "      <td>8:33</td>\n",
       "      <td>0</td>\n",
       "      <td>0.00 mm</td>\n",
       "    </tr>\n",
       "    <tr>\n",
       "      <th>595</th>\n",
       "      <td>2023-10-4</td>\n",
       "      <td>8:34</td>\n",
       "      <td>0</td>\n",
       "      <td>0.00 mm</td>\n",
       "    </tr>\n",
       "  </tbody>\n",
       "</table>\n",
       "<p>596 rows × 4 columns</p>\n",
       "</div>"
      ],
      "text/plain": [
       "          date    time  ntipps rainfall (mm)\n",
       "0    2023-10-3   22:37       0       0.00 mm\n",
       "1    2023-10-3   22:38       0       0.00 mm\n",
       "2    2023-10-3   22:39       0       0.00 mm\n",
       "3    2023-10-3   22:40       0       0.00 mm\n",
       "4    2023-10-3   22:43       0       0.00 mm\n",
       "..         ...     ...     ...           ...\n",
       "591  2023-10-4    8:30       0       0.00 mm\n",
       "592  2023-10-4    8:31       0       0.00 mm\n",
       "593  2023-10-4    8:32       0       0.00 mm\n",
       "594  2023-10-4    8:33       0       0.00 mm\n",
       "595  2023-10-4    8:34       0       0.00 mm\n",
       "\n",
       "[596 rows x 4 columns]"
      ]
     },
     "execution_count": 8,
     "metadata": {},
     "output_type": "execute_result"
    }
   ],
   "source": [
    "mech_data"
   ]
  },
  {
   "cell_type": "code",
   "execution_count": 9,
   "id": "48482a52",
   "metadata": {},
   "outputs": [],
   "source": [
    "cutoff_value = 0.0"
   ]
  },
  {
   "cell_type": "markdown",
   "id": "f62f87d1",
   "metadata": {},
   "source": [
    "### Clean data"
   ]
  },
  {
   "cell_type": "code",
   "execution_count": 10,
   "id": "db926f9d",
   "metadata": {},
   "outputs": [],
   "source": [
    "def process_mech_data(df):\n",
    "    df[\"datetime\"] = df[\"date\"]+\" \"+df[\"time\"]\n",
    "    df[\"datetime\"] = pd.to_datetime(df[\"datetime\"])\n",
    "    df = df.drop([\"date\", \"time\"], axis=1)\n",
    "    df = df[mech_cols_desired]\n",
    "    df[\"rainfall (mm)\"] = df[\"rainfall (mm)\"].str.split(\" \").str[1]\n",
    "    df[\"rainfall (mm)\"] = df[\"rainfall (mm)\"].astype(float)\n",
    "    df = df[df[\"rainfall (mm)\"]>cutoff_value]\n",
    "    return df"
   ]
  },
  {
   "cell_type": "code",
   "execution_count": 11,
   "id": "5953b8cc",
   "metadata": {},
   "outputs": [],
   "source": [
    "def process_sound_data(df):\n",
    "    df[\"time\"] = df[\"time\"].str.split(\":\").str[:-1].str.join(\":\")\n",
    "    df[\"date\"] = df[\"date\"].str.split(\"/\").str[::-1].str.join(\"-\")\n",
    "    df[\"datetime\"] = df[\"date\"]+\" \"+df[\"time\"]\n",
    "    df[\"datetime\"] = pd.to_datetime(df[\"datetime\"])\n",
    "    df = df.drop([\"date\", \"time\"], axis=1)\n",
    "    df = df[sound_cols_desired]\n",
    "    df[\"sound\"] = df[\"sound\"].astype(float)\n",
    "    df[\"loudness\"] = df[\"loudness\"].astype(float)\n",
    "    return df"
   ]
  },
  {
   "cell_type": "code",
   "execution_count": 12,
   "id": "6bcd80d1",
   "metadata": {},
   "outputs": [],
   "source": [
    "mech_data = process_mech_data(mech_data)\n",
    "sound_data = process_sound_data(sound_data)"
   ]
  },
  {
   "cell_type": "markdown",
   "id": "30e13ab8",
   "metadata": {},
   "source": [
    "### Filter matching points"
   ]
  },
  {
   "cell_type": "code",
   "execution_count": 13,
   "id": "4e25e545",
   "metadata": {},
   "outputs": [],
   "source": [
    "timepoints = list(set(sound_data[\"datetime\"]).intersection(mech_data[\"datetime\"]))\n",
    "sound_data = sound_data.loc[sound_data[\"datetime\"].isin(timepoints)]\n",
    "mech_data = mech_data.loc[mech_data[\"datetime\"].isin(timepoints)]"
   ]
  },
  {
   "cell_type": "markdown",
   "id": "ba19faf9",
   "metadata": {},
   "source": [
    "### Merge data and compute time difference to last reading"
   ]
  },
  {
   "cell_type": "code",
   "execution_count": 14,
   "id": "bbdea487",
   "metadata": {},
   "outputs": [],
   "source": [
    "data_merged = pd.merge(mech_data, sound_data, on=\"datetime\", how=\"inner\")"
   ]
  },
  {
   "cell_type": "code",
   "execution_count": 15,
   "id": "193aecdc",
   "metadata": {},
   "outputs": [],
   "source": [
    "data_merged['timedelta'] = (data_merged[\"datetime\"]-data_merged[\"datetime\"].shift()).fillna(pd.Timedelta(0))"
   ]
  },
  {
   "cell_type": "code",
   "execution_count": 16,
   "id": "6c4399f8",
   "metadata": {},
   "outputs": [],
   "source": [
    "data_merged[\"timedelta_min\"] = data_merged[\"timedelta\"].dt.total_seconds().div(60).astype(int)"
   ]
  },
  {
   "cell_type": "code",
   "execution_count": 17,
   "id": "e15e1bca",
   "metadata": {},
   "outputs": [
    {
     "data": {
      "text/html": [
       "<div>\n",
       "<style scoped>\n",
       "    .dataframe tbody tr th:only-of-type {\n",
       "        vertical-align: middle;\n",
       "    }\n",
       "\n",
       "    .dataframe tbody tr th {\n",
       "        vertical-align: top;\n",
       "    }\n",
       "\n",
       "    .dataframe thead th {\n",
       "        text-align: right;\n",
       "    }\n",
       "</style>\n",
       "<table border=\"1\" class=\"dataframe\">\n",
       "  <thead>\n",
       "    <tr style=\"text-align: right;\">\n",
       "      <th></th>\n",
       "      <th>datetime</th>\n",
       "      <th>ntipps</th>\n",
       "      <th>rainfall (mm)</th>\n",
       "      <th>sound</th>\n",
       "      <th>loudness</th>\n",
       "      <th>timedelta</th>\n",
       "      <th>timedelta_min</th>\n",
       "    </tr>\n",
       "  </thead>\n",
       "  <tbody>\n",
       "    <tr>\n",
       "      <th>0</th>\n",
       "      <td>2023-10-03 22:52:00</td>\n",
       "      <td>2</td>\n",
       "      <td>0.56</td>\n",
       "      <td>378.0</td>\n",
       "      <td>137.0</td>\n",
       "      <td>0 days 00:00:00</td>\n",
       "      <td>0</td>\n",
       "    </tr>\n",
       "    <tr>\n",
       "      <th>1</th>\n",
       "      <td>2023-10-03 22:53:00</td>\n",
       "      <td>2</td>\n",
       "      <td>0.56</td>\n",
       "      <td>360.0</td>\n",
       "      <td>128.0</td>\n",
       "      <td>0 days 00:01:00</td>\n",
       "      <td>1</td>\n",
       "    </tr>\n",
       "    <tr>\n",
       "      <th>2</th>\n",
       "      <td>2023-10-03 23:29:00</td>\n",
       "      <td>4</td>\n",
       "      <td>1.12</td>\n",
       "      <td>380.0</td>\n",
       "      <td>141.0</td>\n",
       "      <td>0 days 00:36:00</td>\n",
       "      <td>36</td>\n",
       "    </tr>\n",
       "    <tr>\n",
       "      <th>3</th>\n",
       "      <td>2023-10-04 01:44:00</td>\n",
       "      <td>1</td>\n",
       "      <td>0.28</td>\n",
       "      <td>384.0</td>\n",
       "      <td>137.0</td>\n",
       "      <td>0 days 02:15:00</td>\n",
       "      <td>135</td>\n",
       "    </tr>\n",
       "    <tr>\n",
       "      <th>4</th>\n",
       "      <td>2023-10-04 01:52:00</td>\n",
       "      <td>1</td>\n",
       "      <td>0.28</td>\n",
       "      <td>396.0</td>\n",
       "      <td>146.0</td>\n",
       "      <td>0 days 00:08:00</td>\n",
       "      <td>8</td>\n",
       "    </tr>\n",
       "    <tr>\n",
       "      <th>5</th>\n",
       "      <td>2023-10-04 02:07:00</td>\n",
       "      <td>1</td>\n",
       "      <td>0.28</td>\n",
       "      <td>377.0</td>\n",
       "      <td>142.0</td>\n",
       "      <td>0 days 00:15:00</td>\n",
       "      <td>15</td>\n",
       "    </tr>\n",
       "    <tr>\n",
       "      <th>6</th>\n",
       "      <td>2023-10-04 02:25:00</td>\n",
       "      <td>1</td>\n",
       "      <td>0.28</td>\n",
       "      <td>388.0</td>\n",
       "      <td>137.0</td>\n",
       "      <td>0 days 00:18:00</td>\n",
       "      <td>18</td>\n",
       "    </tr>\n",
       "    <tr>\n",
       "      <th>7</th>\n",
       "      <td>2023-10-04 02:35:00</td>\n",
       "      <td>1</td>\n",
       "      <td>0.28</td>\n",
       "      <td>392.0</td>\n",
       "      <td>150.0</td>\n",
       "      <td>0 days 00:10:00</td>\n",
       "      <td>10</td>\n",
       "    </tr>\n",
       "    <tr>\n",
       "      <th>8</th>\n",
       "      <td>2023-10-04 02:37:00</td>\n",
       "      <td>1</td>\n",
       "      <td>0.28</td>\n",
       "      <td>395.0</td>\n",
       "      <td>148.0</td>\n",
       "      <td>0 days 00:02:00</td>\n",
       "      <td>2</td>\n",
       "    </tr>\n",
       "    <tr>\n",
       "      <th>9</th>\n",
       "      <td>2023-10-04 02:38:00</td>\n",
       "      <td>3</td>\n",
       "      <td>0.84</td>\n",
       "      <td>388.0</td>\n",
       "      <td>142.0</td>\n",
       "      <td>0 days 00:01:00</td>\n",
       "      <td>1</td>\n",
       "    </tr>\n",
       "    <tr>\n",
       "      <th>10</th>\n",
       "      <td>2023-10-04 02:39:00</td>\n",
       "      <td>3</td>\n",
       "      <td>0.84</td>\n",
       "      <td>390.0</td>\n",
       "      <td>141.0</td>\n",
       "      <td>0 days 00:01:00</td>\n",
       "      <td>1</td>\n",
       "    </tr>\n",
       "    <tr>\n",
       "      <th>11</th>\n",
       "      <td>2023-10-04 02:40:00</td>\n",
       "      <td>4</td>\n",
       "      <td>1.12</td>\n",
       "      <td>388.0</td>\n",
       "      <td>147.0</td>\n",
       "      <td>0 days 00:01:00</td>\n",
       "      <td>1</td>\n",
       "    </tr>\n",
       "    <tr>\n",
       "      <th>12</th>\n",
       "      <td>2023-10-04 02:41:00</td>\n",
       "      <td>2</td>\n",
       "      <td>0.56</td>\n",
       "      <td>396.0</td>\n",
       "      <td>139.0</td>\n",
       "      <td>0 days 00:01:00</td>\n",
       "      <td>1</td>\n",
       "    </tr>\n",
       "    <tr>\n",
       "      <th>13</th>\n",
       "      <td>2023-10-04 02:42:00</td>\n",
       "      <td>1</td>\n",
       "      <td>0.28</td>\n",
       "      <td>389.0</td>\n",
       "      <td>141.0</td>\n",
       "      <td>0 days 00:01:00</td>\n",
       "      <td>1</td>\n",
       "    </tr>\n",
       "    <tr>\n",
       "      <th>14</th>\n",
       "      <td>2023-10-04 02:43:00</td>\n",
       "      <td>1</td>\n",
       "      <td>0.28</td>\n",
       "      <td>383.0</td>\n",
       "      <td>141.0</td>\n",
       "      <td>0 days 00:01:00</td>\n",
       "      <td>1</td>\n",
       "    </tr>\n",
       "    <tr>\n",
       "      <th>15</th>\n",
       "      <td>2023-10-04 02:45:00</td>\n",
       "      <td>1</td>\n",
       "      <td>0.28</td>\n",
       "      <td>372.0</td>\n",
       "      <td>135.0</td>\n",
       "      <td>0 days 00:02:00</td>\n",
       "      <td>2</td>\n",
       "    </tr>\n",
       "    <tr>\n",
       "      <th>16</th>\n",
       "      <td>2023-10-04 02:51:00</td>\n",
       "      <td>1</td>\n",
       "      <td>0.28</td>\n",
       "      <td>386.0</td>\n",
       "      <td>140.0</td>\n",
       "      <td>0 days 00:06:00</td>\n",
       "      <td>6</td>\n",
       "    </tr>\n",
       "    <tr>\n",
       "      <th>17</th>\n",
       "      <td>2023-10-04 05:28:00</td>\n",
       "      <td>1</td>\n",
       "      <td>0.28</td>\n",
       "      <td>417.0</td>\n",
       "      <td>143.0</td>\n",
       "      <td>0 days 02:37:00</td>\n",
       "      <td>157</td>\n",
       "    </tr>\n",
       "  </tbody>\n",
       "</table>\n",
       "</div>"
      ],
      "text/plain": [
       "              datetime  ntipps  rainfall (mm)  sound  loudness  \\\n",
       "0  2023-10-03 22:52:00       2           0.56  378.0     137.0   \n",
       "1  2023-10-03 22:53:00       2           0.56  360.0     128.0   \n",
       "2  2023-10-03 23:29:00       4           1.12  380.0     141.0   \n",
       "3  2023-10-04 01:44:00       1           0.28  384.0     137.0   \n",
       "4  2023-10-04 01:52:00       1           0.28  396.0     146.0   \n",
       "5  2023-10-04 02:07:00       1           0.28  377.0     142.0   \n",
       "6  2023-10-04 02:25:00       1           0.28  388.0     137.0   \n",
       "7  2023-10-04 02:35:00       1           0.28  392.0     150.0   \n",
       "8  2023-10-04 02:37:00       1           0.28  395.0     148.0   \n",
       "9  2023-10-04 02:38:00       3           0.84  388.0     142.0   \n",
       "10 2023-10-04 02:39:00       3           0.84  390.0     141.0   \n",
       "11 2023-10-04 02:40:00       4           1.12  388.0     147.0   \n",
       "12 2023-10-04 02:41:00       2           0.56  396.0     139.0   \n",
       "13 2023-10-04 02:42:00       1           0.28  389.0     141.0   \n",
       "14 2023-10-04 02:43:00       1           0.28  383.0     141.0   \n",
       "15 2023-10-04 02:45:00       1           0.28  372.0     135.0   \n",
       "16 2023-10-04 02:51:00       1           0.28  386.0     140.0   \n",
       "17 2023-10-04 05:28:00       1           0.28  417.0     143.0   \n",
       "\n",
       "         timedelta  timedelta_min  \n",
       "0  0 days 00:00:00              0  \n",
       "1  0 days 00:01:00              1  \n",
       "2  0 days 00:36:00             36  \n",
       "3  0 days 02:15:00            135  \n",
       "4  0 days 00:08:00              8  \n",
       "5  0 days 00:15:00             15  \n",
       "6  0 days 00:18:00             18  \n",
       "7  0 days 00:10:00             10  \n",
       "8  0 days 00:02:00              2  \n",
       "9  0 days 00:01:00              1  \n",
       "10 0 days 00:01:00              1  \n",
       "11 0 days 00:01:00              1  \n",
       "12 0 days 00:01:00              1  \n",
       "13 0 days 00:01:00              1  \n",
       "14 0 days 00:01:00              1  \n",
       "15 0 days 00:02:00              2  \n",
       "16 0 days 00:06:00              6  \n",
       "17 0 days 02:37:00            157  "
      ]
     },
     "execution_count": 17,
     "metadata": {},
     "output_type": "execute_result"
    }
   ],
   "source": [
    "data_merged"
   ]
  },
  {
   "cell_type": "markdown",
   "id": "cac55e1a",
   "metadata": {},
   "source": [
    "### Scatter plot"
   ]
  },
  {
   "cell_type": "code",
   "execution_count": 18,
   "id": "a0f36d35",
   "metadata": {},
   "outputs": [
    {
     "data": {
      "text/plain": [
       "Text(0.5, 1.0, 'Rainfall vs. loudness scatter plot')"
      ]
     },
     "execution_count": 18,
     "metadata": {},
     "output_type": "execute_result"
    },
    {
     "data": {
      "image/png": "[encoded data removed]",
      "text/plain": [
       "<Figure size 1000x300 with 1 Axes>"
      ]
     },
     "metadata": {},
     "output_type": "display_data"
    }
   ],
   "source": [
    "data_merged.plot(x=\"rainfall (mm)\", y=\"loudness\", kind='scatter', rot=45, figsize=(10,3))\n",
    "plt.title(\"Rainfall vs. loudness scatter plot\")"
   ]
  },
  {
   "cell_type": "markdown",
   "id": "d72e5354",
   "metadata": {},
   "source": [
    "### Basic correlation analysis"
   ]
  },
  {
   "cell_type": "markdown",
   "id": "7138f7cb",
   "metadata": {},
   "source": [
    "#### Pearson Correlation"
   ]
  },
  {
   "cell_type": "code",
   "execution_count": 19,
   "id": "d6180862",
   "metadata": {},
   "outputs": [
    {
     "data": {
      "text/html": [
       "<div>\n",
       "<style scoped>\n",
       "    .dataframe tbody tr th:only-of-type {\n",
       "        vertical-align: middle;\n",
       "    }\n",
       "\n",
       "    .dataframe tbody tr th {\n",
       "        vertical-align: top;\n",
       "    }\n",
       "\n",
       "    .dataframe thead th {\n",
       "        text-align: right;\n",
       "    }\n",
       "</style>\n",
       "<table border=\"1\" class=\"dataframe\">\n",
       "  <thead>\n",
       "    <tr style=\"text-align: right;\">\n",
       "      <th></th>\n",
       "      <th>datetime</th>\n",
       "      <th>ntipps</th>\n",
       "      <th>rainfall (mm)</th>\n",
       "      <th>sound</th>\n",
       "      <th>loudness</th>\n",
       "      <th>timedelta</th>\n",
       "      <th>timedelta_min</th>\n",
       "    </tr>\n",
       "  </thead>\n",
       "  <tbody>\n",
       "    <tr>\n",
       "      <th>datetime</th>\n",
       "      <td>1.000000</td>\n",
       "      <td>-0.337294</td>\n",
       "      <td>-0.337294</td>\n",
       "      <td>0.744423</td>\n",
       "      <td>0.477797</td>\n",
       "      <td>0.324207</td>\n",
       "      <td>0.324207</td>\n",
       "    </tr>\n",
       "    <tr>\n",
       "      <th>ntipps</th>\n",
       "      <td>-0.337294</td>\n",
       "      <td>1.000000</td>\n",
       "      <td>1.000000</td>\n",
       "      <td>-0.148040</td>\n",
       "      <td>0.033542</td>\n",
       "      <td>-0.200516</td>\n",
       "      <td>-0.200516</td>\n",
       "    </tr>\n",
       "    <tr>\n",
       "      <th>rainfall (mm)</th>\n",
       "      <td>-0.337294</td>\n",
       "      <td>1.000000</td>\n",
       "      <td>1.000000</td>\n",
       "      <td>-0.148040</td>\n",
       "      <td>0.033542</td>\n",
       "      <td>-0.200516</td>\n",
       "      <td>-0.200516</td>\n",
       "    </tr>\n",
       "    <tr>\n",
       "      <th>sound</th>\n",
       "      <td>0.744423</td>\n",
       "      <td>-0.148040</td>\n",
       "      <td>-0.148040</td>\n",
       "      <td>1.000000</td>\n",
       "      <td>0.644813</td>\n",
       "      <td>0.448797</td>\n",
       "      <td>0.448797</td>\n",
       "    </tr>\n",
       "    <tr>\n",
       "      <th>loudness</th>\n",
       "      <td>0.477797</td>\n",
       "      <td>0.033542</td>\n",
       "      <td>0.033542</td>\n",
       "      <td>0.644813</td>\n",
       "      <td>1.000000</td>\n",
       "      <td>-0.024400</td>\n",
       "      <td>-0.024400</td>\n",
       "    </tr>\n",
       "    <tr>\n",
       "      <th>timedelta</th>\n",
       "      <td>0.324207</td>\n",
       "      <td>-0.200516</td>\n",
       "      <td>-0.200516</td>\n",
       "      <td>0.448797</td>\n",
       "      <td>-0.024400</td>\n",
       "      <td>1.000000</td>\n",
       "      <td>1.000000</td>\n",
       "    </tr>\n",
       "    <tr>\n",
       "      <th>timedelta_min</th>\n",
       "      <td>0.324207</td>\n",
       "      <td>-0.200516</td>\n",
       "      <td>-0.200516</td>\n",
       "      <td>0.448797</td>\n",
       "      <td>-0.024400</td>\n",
       "      <td>1.000000</td>\n",
       "      <td>1.000000</td>\n",
       "    </tr>\n",
       "  </tbody>\n",
       "</table>\n",
       "</div>"
      ],
      "text/plain": [
       "               datetime    ntipps  rainfall (mm)     sound  loudness  \\\n",
       "datetime       1.000000 -0.337294      -0.337294  0.744423  0.477797   \n",
       "ntipps        -0.337294  1.000000       1.000000 -0.148040  0.033542   \n",
       "rainfall (mm) -0.337294  1.000000       1.000000 -0.148040  0.033542   \n",
       "sound          0.744423 -0.148040      -0.148040  1.000000  0.644813   \n",
       "loudness       0.477797  0.033542       0.033542  0.644813  1.000000   \n",
       "timedelta      0.324207 -0.200516      -0.200516  0.448797 -0.024400   \n",
       "timedelta_min  0.324207 -0.200516      -0.200516  0.448797 -0.024400   \n",
       "\n",
       "               timedelta  timedelta_min  \n",
       "datetime        0.324207       0.324207  \n",
       "ntipps         -0.200516      -0.200516  \n",
       "rainfall (mm)  -0.200516      -0.200516  \n",
       "sound           0.448797       0.448797  \n",
       "loudness       -0.024400      -0.024400  \n",
       "timedelta       1.000000       1.000000  \n",
       "timedelta_min   1.000000       1.000000  "
      ]
     },
     "execution_count": 19,
     "metadata": {},
     "output_type": "execute_result"
    }
   ],
   "source": [
    "data_merged.corr(method='pearson')"
   ]
  },
  {
   "cell_type": "markdown",
   "id": "fa1107cb",
   "metadata": {},
   "source": [
    "#### Spearman Rank Correlation"
   ]
  },
  {
   "cell_type": "code",
   "execution_count": 20,
   "id": "dece7e14",
   "metadata": {},
   "outputs": [
    {
     "data": {
      "text/html": [
       "<div>\n",
       "<style scoped>\n",
       "    .dataframe tbody tr th:only-of-type {\n",
       "        vertical-align: middle;\n",
       "    }\n",
       "\n",
       "    .dataframe tbody tr th {\n",
       "        vertical-align: top;\n",
       "    }\n",
       "\n",
       "    .dataframe thead th {\n",
       "        text-align: right;\n",
       "    }\n",
       "</style>\n",
       "<table border=\"1\" class=\"dataframe\">\n",
       "  <thead>\n",
       "    <tr style=\"text-align: right;\">\n",
       "      <th></th>\n",
       "      <th>datetime</th>\n",
       "      <th>ntipps</th>\n",
       "      <th>rainfall (mm)</th>\n",
       "      <th>sound</th>\n",
       "      <th>loudness</th>\n",
       "      <th>timedelta</th>\n",
       "      <th>timedelta_min</th>\n",
       "    </tr>\n",
       "  </thead>\n",
       "  <tbody>\n",
       "    <tr>\n",
       "      <th>datetime</th>\n",
       "      <td>1.000000</td>\n",
       "      <td>-0.269885</td>\n",
       "      <td>-0.269885</td>\n",
       "      <td>0.350751</td>\n",
       "      <td>0.164332</td>\n",
       "      <td>-0.044678</td>\n",
       "      <td>-0.044678</td>\n",
       "    </tr>\n",
       "    <tr>\n",
       "      <th>ntipps</th>\n",
       "      <td>-0.269885</td>\n",
       "      <td>1.000000</td>\n",
       "      <td>1.000000</td>\n",
       "      <td>-0.134701</td>\n",
       "      <td>-0.045729</td>\n",
       "      <td>-0.449480</td>\n",
       "      <td>-0.449480</td>\n",
       "    </tr>\n",
       "    <tr>\n",
       "      <th>rainfall (mm)</th>\n",
       "      <td>-0.269885</td>\n",
       "      <td>1.000000</td>\n",
       "      <td>1.000000</td>\n",
       "      <td>-0.134701</td>\n",
       "      <td>-0.045729</td>\n",
       "      <td>-0.449480</td>\n",
       "      <td>-0.449480</td>\n",
       "    </tr>\n",
       "    <tr>\n",
       "      <th>sound</th>\n",
       "      <td>0.350751</td>\n",
       "      <td>-0.134701</td>\n",
       "      <td>-0.134701</td>\n",
       "      <td>1.000000</td>\n",
       "      <td>0.605848</td>\n",
       "      <td>0.141846</td>\n",
       "      <td>0.141846</td>\n",
       "    </tr>\n",
       "    <tr>\n",
       "      <th>loudness</th>\n",
       "      <td>0.164332</td>\n",
       "      <td>-0.045729</td>\n",
       "      <td>-0.045729</td>\n",
       "      <td>0.605848</td>\n",
       "      <td>1.000000</td>\n",
       "      <td>0.167245</td>\n",
       "      <td>0.167245</td>\n",
       "    </tr>\n",
       "    <tr>\n",
       "      <th>timedelta</th>\n",
       "      <td>-0.044678</td>\n",
       "      <td>-0.449480</td>\n",
       "      <td>-0.449480</td>\n",
       "      <td>0.141846</td>\n",
       "      <td>0.167245</td>\n",
       "      <td>1.000000</td>\n",
       "      <td>1.000000</td>\n",
       "    </tr>\n",
       "    <tr>\n",
       "      <th>timedelta_min</th>\n",
       "      <td>-0.044678</td>\n",
       "      <td>-0.449480</td>\n",
       "      <td>-0.449480</td>\n",
       "      <td>0.141846</td>\n",
       "      <td>0.167245</td>\n",
       "      <td>1.000000</td>\n",
       "      <td>1.000000</td>\n",
       "    </tr>\n",
       "  </tbody>\n",
       "</table>\n",
       "</div>"
      ],
      "text/plain": [
       "               datetime    ntipps  rainfall (mm)     sound  loudness  \\\n",
       "datetime       1.000000 -0.269885      -0.269885  0.350751  0.164332   \n",
       "ntipps        -0.269885  1.000000       1.000000 -0.134701 -0.045729   \n",
       "rainfall (mm) -0.269885  1.000000       1.000000 -0.134701 -0.045729   \n",
       "sound          0.350751 -0.134701      -0.134701  1.000000  0.605848   \n",
       "loudness       0.164332 -0.045729      -0.045729  0.605848  1.000000   \n",
       "timedelta     -0.044678 -0.449480      -0.449480  0.141846  0.167245   \n",
       "timedelta_min -0.044678 -0.449480      -0.449480  0.141846  0.167245   \n",
       "\n",
       "               timedelta  timedelta_min  \n",
       "datetime       -0.044678      -0.044678  \n",
       "ntipps         -0.449480      -0.449480  \n",
       "rainfall (mm)  -0.449480      -0.449480  \n",
       "sound           0.141846       0.141846  \n",
       "loudness        0.167245       0.167245  \n",
       "timedelta       1.000000       1.000000  \n",
       "timedelta_min   1.000000       1.000000  "
      ]
     },
     "execution_count": 20,
     "metadata": {},
     "output_type": "execute_result"
    }
   ],
   "source": [
    "data_merged.corr(method='spearman')"
   ]
  },
  {
   "cell_type": "markdown",
   "id": "c9dd97a4",
   "metadata": {},
   "source": [
    "### Rainfall vs. Time to Previous Reading Plot"
   ]
  },
  {
   "cell_type": "code",
   "execution_count": 21,
   "id": "e7132be9",
   "metadata": {},
   "outputs": [
    {
     "data": {
      "text/plain": [
       "<Axes: xlabel='rainfall (mm)', ylabel='timedelta_min'>"
      ]
     },
     "execution_count": 21,
     "metadata": {},
     "output_type": "execute_result"
    },
    {
     "data": {
      "image/png": "[encoded data removed]",
      "text/plain": [
       "<Figure size 1000x300 with 1 Axes>"
      ]
     },
     "metadata": {},
     "output_type": "display_data"
    }
   ],
   "source": [
    "data_merged.plot(x=\"rainfall (mm)\", y=\"timedelta_min\", kind='scatter', rot=45, figsize=(10,3))"
   ]
  },
  {
   "cell_type": "markdown",
   "id": "8a4ce2e3",
   "metadata": {},
   "source": [
    "### Remove drizzling long rain"
   ]
  },
  {
   "cell_type": "code",
   "execution_count": 22,
   "id": "d9c112a5",
   "metadata": {},
   "outputs": [],
   "source": [
    "data_merged = data_merged[data_merged[\"rainfall (mm)\"]>0.28]"
   ]
  },
  {
   "cell_type": "code",
   "execution_count": 23,
   "id": "164cee1c",
   "metadata": {},
   "outputs": [
    {
     "data": {
      "text/plain": [
       "(7, 7)"
      ]
     },
     "execution_count": 23,
     "metadata": {},
     "output_type": "execute_result"
    }
   ],
   "source": [
    "data_merged.shape"
   ]
  },
  {
   "cell_type": "code",
   "execution_count": 24,
   "id": "88b502d1",
   "metadata": {},
   "outputs": [
    {
     "data": {
      "text/plain": [
       "<Axes: xlabel='rainfall (mm)', ylabel='loudness'>"
      ]
     },
     "execution_count": 24,
     "metadata": {},
     "output_type": "execute_result"
    },
    {
     "data": {
      "image/png": "[encoded data removed]",
      "text/plain": [
       "<Figure size 1000x300 with 1 Axes>"
      ]
     },
     "metadata": {},
     "output_type": "display_data"
    }
   ],
   "source": [
    "data_merged.plot(x=\"rainfall (mm)\", y=\"loudness\", kind='scatter', rot=45, figsize=(10,3))"
   ]
  },
  {
   "cell_type": "code",
   "execution_count": 25,
   "id": "63d3fb5a",
   "metadata": {},
   "outputs": [
    {
     "data": {
      "text/plain": [
       "<Axes: xlabel='rainfall (mm)', ylabel='sound'>"
      ]
     },
     "execution_count": 25,
     "metadata": {},
     "output_type": "execute_result"
    },
    {
     "data": {
      "image/png": "[encoded data removed]",
      "text/plain": [
       "<Figure size 1000x300 with 1 Axes>"
      ]
     },
     "metadata": {},
     "output_type": "display_data"
    }
   ],
   "source": [
    "data_merged.plot(x=\"rainfall (mm)\", y=\"sound\", kind='scatter', rot=45, figsize=(10,3))"
   ]
  },
  {
   "cell_type": "markdown",
   "id": "fc5c72ee",
   "metadata": {},
   "source": [
    "### Redo correlation analysis"
   ]
  },
  {
   "cell_type": "code",
   "execution_count": 26,
   "id": "481016e5",
   "metadata": {},
   "outputs": [
    {
     "data": {
      "text/html": [
       "<div>\n",
       "<style scoped>\n",
       "    .dataframe tbody tr th:only-of-type {\n",
       "        vertical-align: middle;\n",
       "    }\n",
       "\n",
       "    .dataframe tbody tr th {\n",
       "        vertical-align: top;\n",
       "    }\n",
       "\n",
       "    .dataframe thead th {\n",
       "        text-align: right;\n",
       "    }\n",
       "</style>\n",
       "<table border=\"1\" class=\"dataframe\">\n",
       "  <thead>\n",
       "    <tr style=\"text-align: right;\">\n",
       "      <th></th>\n",
       "      <th>datetime</th>\n",
       "      <th>ntipps</th>\n",
       "      <th>rainfall (mm)</th>\n",
       "      <th>sound</th>\n",
       "      <th>loudness</th>\n",
       "      <th>timedelta</th>\n",
       "      <th>timedelta_min</th>\n",
       "    </tr>\n",
       "  </thead>\n",
       "  <tbody>\n",
       "    <tr>\n",
       "      <th>datetime</th>\n",
       "      <td>1.000000</td>\n",
       "      <td>0.273382</td>\n",
       "      <td>0.273382</td>\n",
       "      <td>0.838586</td>\n",
       "      <td>0.677839</td>\n",
       "      <td>-0.359220</td>\n",
       "      <td>-0.359220</td>\n",
       "    </tr>\n",
       "    <tr>\n",
       "      <th>ntipps</th>\n",
       "      <td>0.273382</td>\n",
       "      <td>1.000000</td>\n",
       "      <td>1.000000</td>\n",
       "      <td>0.265357</td>\n",
       "      <td>0.737172</td>\n",
       "      <td>0.569179</td>\n",
       "      <td>0.569179</td>\n",
       "    </tr>\n",
       "    <tr>\n",
       "      <th>rainfall (mm)</th>\n",
       "      <td>0.273382</td>\n",
       "      <td>1.000000</td>\n",
       "      <td>1.000000</td>\n",
       "      <td>0.265357</td>\n",
       "      <td>0.737172</td>\n",
       "      <td>0.569179</td>\n",
       "      <td>0.569179</td>\n",
       "    </tr>\n",
       "    <tr>\n",
       "      <th>sound</th>\n",
       "      <td>0.838586</td>\n",
       "      <td>0.265357</td>\n",
       "      <td>0.265357</td>\n",
       "      <td>1.000000</td>\n",
       "      <td>0.789777</td>\n",
       "      <td>-0.101341</td>\n",
       "      <td>-0.101341</td>\n",
       "    </tr>\n",
       "    <tr>\n",
       "      <th>loudness</th>\n",
       "      <td>0.677839</td>\n",
       "      <td>0.737172</td>\n",
       "      <td>0.737172</td>\n",
       "      <td>0.789777</td>\n",
       "      <td>1.000000</td>\n",
       "      <td>0.133423</td>\n",
       "      <td>0.133423</td>\n",
       "    </tr>\n",
       "    <tr>\n",
       "      <th>timedelta</th>\n",
       "      <td>-0.359220</td>\n",
       "      <td>0.569179</td>\n",
       "      <td>0.569179</td>\n",
       "      <td>-0.101341</td>\n",
       "      <td>0.133423</td>\n",
       "      <td>1.000000</td>\n",
       "      <td>1.000000</td>\n",
       "    </tr>\n",
       "    <tr>\n",
       "      <th>timedelta_min</th>\n",
       "      <td>-0.359220</td>\n",
       "      <td>0.569179</td>\n",
       "      <td>0.569179</td>\n",
       "      <td>-0.101341</td>\n",
       "      <td>0.133423</td>\n",
       "      <td>1.000000</td>\n",
       "      <td>1.000000</td>\n",
       "    </tr>\n",
       "  </tbody>\n",
       "</table>\n",
       "</div>"
      ],
      "text/plain": [
       "               datetime    ntipps  rainfall (mm)     sound  loudness  \\\n",
       "datetime       1.000000  0.273382       0.273382  0.838586  0.677839   \n",
       "ntipps         0.273382  1.000000       1.000000  0.265357  0.737172   \n",
       "rainfall (mm)  0.273382  1.000000       1.000000  0.265357  0.737172   \n",
       "sound          0.838586  0.265357       0.265357  1.000000  0.789777   \n",
       "loudness       0.677839  0.737172       0.737172  0.789777  1.000000   \n",
       "timedelta     -0.359220  0.569179       0.569179 -0.101341  0.133423   \n",
       "timedelta_min -0.359220  0.569179       0.569179 -0.101341  0.133423   \n",
       "\n",
       "               timedelta  timedelta_min  \n",
       "datetime       -0.359220      -0.359220  \n",
       "ntipps          0.569179       0.569179  \n",
       "rainfall (mm)   0.569179       0.569179  \n",
       "sound          -0.101341      -0.101341  \n",
       "loudness        0.133423       0.133423  \n",
       "timedelta       1.000000       1.000000  \n",
       "timedelta_min   1.000000       1.000000  "
      ]
     },
     "execution_count": 26,
     "metadata": {},
     "output_type": "execute_result"
    }
   ],
   "source": [
    "data_merged.corr(method='pearson')"
   ]
  },
  {
   "cell_type": "code",
   "execution_count": 27,
   "id": "0239d74f",
   "metadata": {},
   "outputs": [
    {
     "data": {
      "text/html": [
       "<div>\n",
       "<style scoped>\n",
       "    .dataframe tbody tr th:only-of-type {\n",
       "        vertical-align: middle;\n",
       "    }\n",
       "\n",
       "    .dataframe tbody tr th {\n",
       "        vertical-align: top;\n",
       "    }\n",
       "\n",
       "    .dataframe thead th {\n",
       "        text-align: right;\n",
       "    }\n",
       "</style>\n",
       "<table border=\"1\" class=\"dataframe\">\n",
       "  <thead>\n",
       "    <tr style=\"text-align: right;\">\n",
       "      <th></th>\n",
       "      <th>datetime</th>\n",
       "      <th>ntipps</th>\n",
       "      <th>rainfall (mm)</th>\n",
       "      <th>sound</th>\n",
       "      <th>loudness</th>\n",
       "      <th>timedelta</th>\n",
       "      <th>timedelta_min</th>\n",
       "    </tr>\n",
       "  </thead>\n",
       "  <tbody>\n",
       "    <tr>\n",
       "      <th>datetime</th>\n",
       "      <td>1.000000</td>\n",
       "      <td>0.264575</td>\n",
       "      <td>0.264575</td>\n",
       "      <td>0.900937</td>\n",
       "      <td>0.540562</td>\n",
       "      <td>0.267261</td>\n",
       "      <td>0.267261</td>\n",
       "    </tr>\n",
       "    <tr>\n",
       "      <th>ntipps</th>\n",
       "      <td>0.264575</td>\n",
       "      <td>1.000000</td>\n",
       "      <td>1.000000</td>\n",
       "      <td>0.152554</td>\n",
       "      <td>0.839047</td>\n",
       "      <td>0.636396</td>\n",
       "      <td>0.636396</td>\n",
       "    </tr>\n",
       "    <tr>\n",
       "      <th>rainfall (mm)</th>\n",
       "      <td>0.264575</td>\n",
       "      <td>1.000000</td>\n",
       "      <td>1.000000</td>\n",
       "      <td>0.152554</td>\n",
       "      <td>0.839047</td>\n",
       "      <td>0.636396</td>\n",
       "      <td>0.636396</td>\n",
       "    </tr>\n",
       "    <tr>\n",
       "      <th>sound</th>\n",
       "      <td>0.900937</td>\n",
       "      <td>0.152554</td>\n",
       "      <td>0.152554</td>\n",
       "      <td>1.000000</td>\n",
       "      <td>0.472727</td>\n",
       "      <td>0.134840</td>\n",
       "      <td>0.134840</td>\n",
       "    </tr>\n",
       "    <tr>\n",
       "      <th>loudness</th>\n",
       "      <td>0.540562</td>\n",
       "      <td>0.839047</td>\n",
       "      <td>0.839047</td>\n",
       "      <td>0.472727</td>\n",
       "      <td>1.000000</td>\n",
       "      <td>0.337100</td>\n",
       "      <td>0.337100</td>\n",
       "    </tr>\n",
       "    <tr>\n",
       "      <th>timedelta</th>\n",
       "      <td>0.267261</td>\n",
       "      <td>0.636396</td>\n",
       "      <td>0.636396</td>\n",
       "      <td>0.134840</td>\n",
       "      <td>0.337100</td>\n",
       "      <td>1.000000</td>\n",
       "      <td>1.000000</td>\n",
       "    </tr>\n",
       "    <tr>\n",
       "      <th>timedelta_min</th>\n",
       "      <td>0.267261</td>\n",
       "      <td>0.636396</td>\n",
       "      <td>0.636396</td>\n",
       "      <td>0.134840</td>\n",
       "      <td>0.337100</td>\n",
       "      <td>1.000000</td>\n",
       "      <td>1.000000</td>\n",
       "    </tr>\n",
       "  </tbody>\n",
       "</table>\n",
       "</div>"
      ],
      "text/plain": [
       "               datetime    ntipps  rainfall (mm)     sound  loudness  \\\n",
       "datetime       1.000000  0.264575       0.264575  0.900937  0.540562   \n",
       "ntipps         0.264575  1.000000       1.000000  0.152554  0.839047   \n",
       "rainfall (mm)  0.264575  1.000000       1.000000  0.152554  0.839047   \n",
       "sound          0.900937  0.152554       0.152554  1.000000  0.472727   \n",
       "loudness       0.540562  0.839047       0.839047  0.472727  1.000000   \n",
       "timedelta      0.267261  0.636396       0.636396  0.134840  0.337100   \n",
       "timedelta_min  0.267261  0.636396       0.636396  0.134840  0.337100   \n",
       "\n",
       "               timedelta  timedelta_min  \n",
       "datetime        0.267261       0.267261  \n",
       "ntipps          0.636396       0.636396  \n",
       "rainfall (mm)   0.636396       0.636396  \n",
       "sound           0.134840       0.134840  \n",
       "loudness        0.337100       0.337100  \n",
       "timedelta       1.000000       1.000000  \n",
       "timedelta_min   1.000000       1.000000  "
      ]
     },
     "execution_count": 27,
     "metadata": {},
     "output_type": "execute_result"
    }
   ],
   "source": [
    "data_merged.corr(method='spearman')"
   ]
  },
  {
   "cell_type": "markdown",
   "id": "e2e49304",
   "metadata": {},
   "source": [
    "### Observations\n",
    "\n",
    "1. There is correlation w.r.t. mechanical readings and acoustic measurements\n",
    "2. The acoustic feature loudness (pearson: 0.7371) is found to be more correlated to mechanical measurements\n",
    "3. For low volumes of rain (0.28 mm), the variation in loudness is not very useful. Hence in these cases a different strategy needs to be deviced\n",
    "4. For low volumes of rain (e.g. <=0.28 mm) the tipping event happens relatively after longer duration (10-150 min). Hence loudness measurement in the last minute may not account for the drizzling rain happened during that period."
   ]
  },
  {
   "cell_type": "code",
   "execution_count": null,
   "id": "762528e1",
   "metadata": {},
   "outputs": [],
   "source": []
  }
 ],
 "metadata": {
  "kernelspec": {
   "display_name": "Python 3 (ipykernel)",
   "language": "python",
   "name": "python3"
  },
  "language_info": {
   "codemirror_mode": {
    "name": "ipython",
    "version": 3
   },
   "file_extension": ".py",
   "mimetype": "text/x-python",
   "name": "python",
   "nbconvert_exporter": "python",
   "pygments_lexer": "ipython3",
   "version": "3.10.12"
  }
 },
 "nbformat": 4,
 "nbformat_minor": 5
}
