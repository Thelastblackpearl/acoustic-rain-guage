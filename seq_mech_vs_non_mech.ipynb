{
 "cells": [
  {
   "cell_type": "code",
   "execution_count": 1,
   "id": "3a7086cf",
   "metadata": {
    "_cell_guid": "b1076dfc-b9ad-4769-8c92-a6c4dae69d19",
    "_uuid": "8f2839f25d086af736a60e9eeb907d3b93b6e0e5",
    "execution": {
     "iopub.execute_input": "2023-11-29T08:55:32.843797Z",
     "iopub.status.busy": "2023-11-29T08:55:32.843149Z",
     "iopub.status.idle": "2023-11-29T08:55:47.295038Z",
     "shell.execute_reply": "2023-11-29T08:55:47.294190Z"
    },
    "papermill": {
     "duration": 14.462104,
     "end_time": "2023-11-29T08:55:47.297387",
     "exception": false,
     "start_time": "2023-11-29T08:55:32.835283",
     "status": "completed"
    },
    "tags": []
   },
   "outputs": [
    {
     "name": "stderr",
     "output_type": "stream",
     "text": [
      "/opt/conda/lib/python3.10/site-packages/scipy/__init__.py:146: UserWarning: A NumPy version >=1.16.5 and <1.23.0 is required for this version of SciPy (detected version 1.24.3\n",
      "  warnings.warn(f\"A NumPy version >={np_minversion} and <{np_maxversion}\"\n"
     ]
    }
   ],
   "source": [
    "import librosa\n",
    "import numpy as np\n",
    "import pandas as pd\n",
    "from tqdm import tqdm\n",
    "from os import listdir\n",
    "import matplotlib.pyplot as plt\n",
    "from keras.utils import Sequence\n",
    "from keras.models import Sequential\n",
    "from keras.layers import LSTM, Dense\n",
    "from sklearn.model_selection import train_test_split\n",
    "from tensorflow.keras.callbacks import ModelCheckpoint\n",
    "from sklearn.metrics import mean_absolute_percentage_error"
   ]
  },
  {
   "cell_type": "code",
   "execution_count": 2,
   "id": "64fd18fe",
   "metadata": {
    "execution": {
     "iopub.execute_input": "2023-11-29T08:55:47.313153Z",
     "iopub.status.busy": "2023-11-29T08:55:47.312597Z",
     "iopub.status.idle": "2023-11-29T08:55:47.317085Z",
     "shell.execute_reply": "2023-11-29T08:55:47.316228Z"
    },
    "papermill": {
     "duration": 0.01402,
     "end_time": "2023-11-29T08:55:47.318993",
     "exception": false,
     "start_time": "2023-11-29T08:55:47.304973",
     "status": "completed"
    },
    "tags": []
   },
   "outputs": [],
   "source": [
    "DATA_PATH = \"/kaggle/input/audio-rain-seq-8k\"\n",
    "Fs = 8000\n",
    "model_name=\"seq_stft.hdf5\""
   ]
  },
  {
   "cell_type": "code",
   "execution_count": 3,
   "id": "6826d689",
   "metadata": {
    "execution": {
     "iopub.execute_input": "2023-11-29T08:55:47.332234Z",
     "iopub.status.busy": "2023-11-29T08:55:47.331961Z",
     "iopub.status.idle": "2023-11-29T08:55:47.336994Z",
     "shell.execute_reply": "2023-11-29T08:55:47.336025Z"
    },
    "papermill": {
     "duration": 0.013924,
     "end_time": "2023-11-29T08:55:47.338986",
     "exception": false,
     "start_time": "2023-11-29T08:55:47.325062",
     "status": "completed"
    },
    "tags": []
   },
   "outputs": [],
   "source": [
    "def load_wav(file_path):\n",
    "    audio, Fs = librosa.load(file_path, sr=None)\n",
    "    duration = librosa.get_duration(y=audio, sr=Fs)\n",
    "    audio /= np.max(np.abs(audio), axis=0)\n",
    "    return audio, Fs, duration"
   ]
  },
  {
   "cell_type": "code",
   "execution_count": 4,
   "id": "1aabe6f7",
   "metadata": {
    "execution": {
     "iopub.execute_input": "2023-11-29T08:55:47.352840Z",
     "iopub.status.busy": "2023-11-29T08:55:47.352564Z",
     "iopub.status.idle": "2023-11-29T08:55:47.362941Z",
     "shell.execute_reply": "2023-11-29T08:55:47.362102Z"
    },
    "papermill": {
     "duration": 0.019515,
     "end_time": "2023-11-29T08:55:47.364875",
     "exception": false,
     "start_time": "2023-11-29T08:55:47.345360",
     "status": "completed"
    },
    "tags": []
   },
   "outputs": [],
   "source": [
    "class Dataset:\n",
    "    def __init__(self, data_path, output_shape, validation=False):\n",
    "        self.data_path = data_path\n",
    "        self.validation = validation\n",
    "        self.output_shape = output_shape\n",
    "        self.targets = np.load(self.data_path+\"/target.npy\")\n",
    "        self.audio_files = [self.data_path+\"/audio_{}\".format(i)+\".npy\" for i in range(1, 201) if i!=171]\n",
    "        self.X_train, self.X_test, self.y_train, self.y_test = train_test_split(self.audio_files, \n",
    "                                                                                self.targets,\n",
    "                                                                            test_size=0.25)\n",
    "    def __len__(self):\n",
    "        if self.validation:\n",
    "            data_len = int(np.ceil(len(self.y_test)))\n",
    "        else:\n",
    "            data_len = int(np.ceil(len(self.y_train)))\n",
    "        return int(np.ceil(data_len ))\n",
    "    \n",
    "    def create_cnn_data(self, raw_data):\n",
    "        stft_data = np.empty(shape=[0, 1025, 2657])\n",
    "        Zxx = librosa.stft(raw_data)\n",
    "        stft_sample = np.abs(Zxx)\n",
    "        return stft_sample\n",
    "\n",
    "    def __getitem__(self, index):\n",
    "        if self.validation:\n",
    "            audio_file = self.X_test[index]\n",
    "            batch_target = self.y_test[index]\n",
    "        else:\n",
    "            audio_file = self.X_train[index]\n",
    "            batch_target = self.y_train[index]\n",
    "            \n",
    "        audio_data = np.load(audio_file)\n",
    "        audio_data = self.create_cnn_data(audio_data)\n",
    "        batch_target = batch_target.reshape(self.output_shape)\n",
    "\n",
    "        return audio_data, batch_target"
   ]
  },
  {
   "cell_type": "code",
   "execution_count": 5,
   "id": "3346f4eb",
   "metadata": {
    "execution": {
     "iopub.execute_input": "2023-11-29T08:55:47.378191Z",
     "iopub.status.busy": "2023-11-29T08:55:47.377921Z",
     "iopub.status.idle": "2023-11-29T08:55:47.385549Z",
     "shell.execute_reply": "2023-11-29T08:55:47.384730Z"
    },
    "papermill": {
     "duration": 0.016462,
     "end_time": "2023-11-29T08:55:47.387509",
     "exception": false,
     "start_time": "2023-11-29T08:55:47.371047",
     "status": "completed"
    },
    "tags": []
   },
   "outputs": [],
   "source": [
    "class Dataloder(Sequence):    \n",
    "    def __init__(self, dataset, batch_size=1, shuffle=False):\n",
    "        self.dataset = dataset\n",
    "        self.batch_size = batch_size\n",
    "        self.shuffle = shuffle\n",
    "        self.indexes = np.arange(len(dataset))\n",
    "\n",
    "    def __getitem__(self, i):\n",
    "        \n",
    "        start = i * self.batch_size\n",
    "        stop = (i + 1) * self.batch_size\n",
    "        data = []\n",
    "        for j in range(start, stop):\n",
    "            data.append(self.dataset[j])\n",
    "        batch = [np.stack(samples, axis=0) for samples in zip(*data)]\n",
    "        return tuple(batch)\n",
    "    \n",
    "    def __len__(self):\n",
    "        return len(self.indexes) // self.batch_size\n",
    "    \n",
    "    def on_epoch_end(self):\n",
    "        if self.shuffle:\n",
    "            self.indexes = np.random.permutation(self.indexes)"
   ]
  },
  {
   "cell_type": "code",
   "execution_count": 6,
   "id": "5ae0476c",
   "metadata": {
    "execution": {
     "iopub.execute_input": "2023-11-29T08:55:47.400583Z",
     "iopub.status.busy": "2023-11-29T08:55:47.400320Z",
     "iopub.status.idle": "2023-11-29T08:55:47.403953Z",
     "shell.execute_reply": "2023-11-29T08:55:47.403128Z"
    },
    "papermill": {
     "duration": 0.012215,
     "end_time": "2023-11-29T08:55:47.405773",
     "exception": false,
     "start_time": "2023-11-29T08:55:47.393558",
     "status": "completed"
    },
    "tags": []
   },
   "outputs": [],
   "source": [
    "output_shape = (1, 1)"
   ]
  },
  {
   "cell_type": "code",
   "execution_count": 7,
   "id": "7f5c4abd",
   "metadata": {
    "execution": {
     "iopub.execute_input": "2023-11-29T08:55:47.420121Z",
     "iopub.status.busy": "2023-11-29T08:55:47.419836Z",
     "iopub.status.idle": "2023-11-29T08:55:47.423629Z",
     "shell.execute_reply": "2023-11-29T08:55:47.422771Z"
    },
    "papermill": {
     "duration": 0.012879,
     "end_time": "2023-11-29T08:55:47.425505",
     "exception": false,
     "start_time": "2023-11-29T08:55:47.412626",
     "status": "completed"
    },
    "tags": []
   },
   "outputs": [],
   "source": [
    "EPOCHS = 25\n",
    "BATCH_SIZE = 1"
   ]
  },
  {
   "cell_type": "code",
   "execution_count": 8,
   "id": "6134633f",
   "metadata": {
    "execution": {
     "iopub.execute_input": "2023-11-29T08:55:47.438548Z",
     "iopub.status.busy": "2023-11-29T08:55:47.438289Z",
     "iopub.status.idle": "2023-11-29T08:55:47.455271Z",
     "shell.execute_reply": "2023-11-29T08:55:47.454613Z"
    },
    "papermill": {
     "duration": 0.025862,
     "end_time": "2023-11-29T08:55:47.457319",
     "exception": false,
     "start_time": "2023-11-29T08:55:47.431457",
     "status": "completed"
    },
    "tags": []
   },
   "outputs": [],
   "source": [
    "train_dataset = Dataset(DATA_PATH,\n",
    "                        output_shape)\n",
    "\n",
    "train_dataloader = Dataloder(train_dataset, \n",
    "                             batch_size=BATCH_SIZE)\n",
    "\n",
    "test_dataset = Dataset(DATA_PATH,\n",
    "                       output_shape,\n",
    "                       validation=True)\n",
    "test_dataloader = Dataloder(test_dataset, \n",
    "                            batch_size=BATCH_SIZE)"
   ]
  },
  {
   "cell_type": "code",
   "execution_count": 9,
   "id": "27c1109c",
   "metadata": {
    "execution": {
     "iopub.execute_input": "2023-11-29T08:55:47.471278Z",
     "iopub.status.busy": "2023-11-29T08:55:47.471018Z",
     "iopub.status.idle": "2023-11-29T08:55:51.782554Z",
     "shell.execute_reply": "2023-11-29T08:55:51.781653Z"
    },
    "papermill": {
     "duration": 4.321076,
     "end_time": "2023-11-29T08:55:51.784915",
     "exception": false,
     "start_time": "2023-11-29T08:55:47.463839",
     "status": "completed"
    },
    "tags": []
   },
   "outputs": [],
   "source": [
    "model = Sequential()\n",
    "model.add(LSTM(50))\n",
    "model.add(Dense(30))\n",
    "model.add(Dense(10))\n",
    "model.add(Dense(1))"
   ]
  },
  {
   "cell_type": "code",
   "execution_count": 10,
   "id": "3ea4830b",
   "metadata": {
    "execution": {
     "iopub.execute_input": "2023-11-29T08:55:51.799202Z",
     "iopub.status.busy": "2023-11-29T08:55:51.798875Z",
     "iopub.status.idle": "2023-11-29T08:55:51.803797Z",
     "shell.execute_reply": "2023-11-29T08:55:51.802754Z"
    },
    "papermill": {
     "duration": 0.014333,
     "end_time": "2023-11-29T08:55:51.805670",
     "exception": false,
     "start_time": "2023-11-29T08:55:51.791337",
     "status": "completed"
    },
    "tags": []
   },
   "outputs": [],
   "source": [
    "cp_callback = ModelCheckpoint(filepath=model_name,\n",
    "                              monitor=\"val_loss\",\n",
    "                              verbose=0,\n",
    "                              save_best_only=True,\n",
    "                              save_weights_only=True,\n",
    "                              mode=\"min\")"
   ]
  },
  {
   "cell_type": "code",
   "execution_count": 11,
   "id": "dd2beb7e",
   "metadata": {
    "execution": {
     "iopub.execute_input": "2023-11-29T08:55:51.819188Z",
     "iopub.status.busy": "2023-11-29T08:55:51.818913Z",
     "iopub.status.idle": "2023-11-29T08:55:51.843396Z",
     "shell.execute_reply": "2023-11-29T08:55:51.842531Z"
    },
    "papermill": {
     "duration": 0.033184,
     "end_time": "2023-11-29T08:55:51.845208",
     "exception": false,
     "start_time": "2023-11-29T08:55:51.812024",
     "status": "completed"
    },
    "tags": []
   },
   "outputs": [],
   "source": [
    "model.compile(optimizer='adam', loss=\"mean_squared_error\", metrics=[\"mse\"])"
   ]
  },
  {
   "cell_type": "code",
   "execution_count": 12,
   "id": "13ca038a",
   "metadata": {
    "execution": {
     "iopub.execute_input": "2023-11-29T08:55:51.858113Z",
     "iopub.status.busy": "2023-11-29T08:55:51.857858Z",
     "iopub.status.idle": "2023-11-29T09:06:04.694749Z",
     "shell.execute_reply": "2023-11-29T09:06:04.693762Z"
    },
    "papermill": {
     "duration": 612.845816,
     "end_time": "2023-11-29T09:06:04.696917",
     "exception": false,
     "start_time": "2023-11-29T08:55:51.851101",
     "status": "completed"
    },
    "tags": []
   },
   "outputs": [
    {
     "name": "stdout",
     "output_type": "stream",
     "text": [
      "Epoch 1/25\n",
      "149/149 [==============================] - 42s 254ms/step - loss: 1.0610 - mse: 1.0610 - val_loss: 0.4497 - val_mse: 0.4497\n",
      "Epoch 2/25\n",
      "149/149 [==============================] - 23s 157ms/step - loss: 0.7304 - mse: 0.7304 - val_loss: 0.3228 - val_mse: 0.3228\n",
      "Epoch 3/25\n",
      "149/149 [==============================] - 21s 139ms/step - loss: 0.4034 - mse: 0.4034 - val_loss: 0.3178 - val_mse: 0.3178\n",
      "Epoch 4/25\n",
      "149/149 [==============================] - 23s 156ms/step - loss: 0.1495 - mse: 0.1495 - val_loss: 0.1399 - val_mse: 0.1399\n",
      "Epoch 5/25\n",
      "149/149 [==============================] - 22s 150ms/step - loss: 0.1130 - mse: 0.1130 - val_loss: 0.0995 - val_mse: 0.0995\n",
      "Epoch 6/25\n",
      "149/149 [==============================] - 24s 158ms/step - loss: 0.0811 - mse: 0.0811 - val_loss: 0.0418 - val_mse: 0.0418\n",
      "Epoch 7/25\n",
      "149/149 [==============================] - 23s 153ms/step - loss: 0.0719 - mse: 0.0719 - val_loss: 0.0616 - val_mse: 0.0616\n",
      "Epoch 8/25\n",
      "149/149 [==============================] - 23s 156ms/step - loss: 0.0538 - mse: 0.0538 - val_loss: 0.0387 - val_mse: 0.0387\n",
      "Epoch 9/25\n",
      "149/149 [==============================] - 20s 137ms/step - loss: 0.0365 - mse: 0.0365 - val_loss: 0.0746 - val_mse: 0.0746\n",
      "Epoch 10/25\n",
      "149/149 [==============================] - 24s 160ms/step - loss: 0.0254 - mse: 0.0254 - val_loss: 0.0350 - val_mse: 0.0350\n",
      "Epoch 11/25\n",
      "149/149 [==============================] - 21s 143ms/step - loss: 0.0224 - mse: 0.0224 - val_loss: 0.0426 - val_mse: 0.0426\n",
      "Epoch 12/25\n",
      "149/149 [==============================] - 23s 155ms/step - loss: 0.0131 - mse: 0.0131 - val_loss: 0.0779 - val_mse: 0.0779\n",
      "Epoch 13/25\n",
      "149/149 [==============================] - 23s 153ms/step - loss: 0.0205 - mse: 0.0205 - val_loss: 0.0279 - val_mse: 0.0279\n",
      "Epoch 14/25\n",
      "149/149 [==============================] - 23s 152ms/step - loss: 0.0372 - mse: 0.0372 - val_loss: 0.0555 - val_mse: 0.0555\n",
      "Epoch 15/25\n",
      "149/149 [==============================] - 21s 144ms/step - loss: 0.0663 - mse: 0.0663 - val_loss: 0.0391 - val_mse: 0.0391\n",
      "Epoch 16/25\n",
      "149/149 [==============================] - 23s 152ms/step - loss: 0.0308 - mse: 0.0308 - val_loss: 0.1266 - val_mse: 0.1266\n",
      "Epoch 17/25\n",
      "149/149 [==============================] - 22s 149ms/step - loss: 0.0291 - mse: 0.0291 - val_loss: 0.0307 - val_mse: 0.0307\n",
      "Epoch 18/25\n",
      "149/149 [==============================] - 23s 156ms/step - loss: 0.0344 - mse: 0.0344 - val_loss: 0.0331 - val_mse: 0.0331\n",
      "Epoch 19/25\n",
      "149/149 [==============================] - 21s 144ms/step - loss: 0.0460 - mse: 0.0460 - val_loss: 0.1317 - val_mse: 0.1317\n",
      "Epoch 20/25\n",
      "149/149 [==============================] - 23s 156ms/step - loss: 0.0744 - mse: 0.0744 - val_loss: 0.0476 - val_mse: 0.0476\n",
      "Epoch 21/25\n",
      "149/149 [==============================] - 22s 149ms/step - loss: 0.0343 - mse: 0.0343 - val_loss: 0.0439 - val_mse: 0.0439\n",
      "Epoch 22/25\n",
      "149/149 [==============================] - 23s 157ms/step - loss: 0.0238 - mse: 0.0238 - val_loss: 0.0461 - val_mse: 0.0461\n",
      "Epoch 23/25\n",
      "149/149 [==============================] - 21s 143ms/step - loss: 0.0265 - mse: 0.0265 - val_loss: 0.0280 - val_mse: 0.0280\n",
      "Epoch 24/25\n",
      "149/149 [==============================] - 23s 153ms/step - loss: 0.0228 - mse: 0.0228 - val_loss: 0.0489 - val_mse: 0.0489\n",
      "Epoch 25/25\n",
      "149/149 [==============================] - 22s 150ms/step - loss: 0.0165 - mse: 0.0165 - val_loss: 0.0272 - val_mse: 0.0272\n"
     ]
    }
   ],
   "source": [
    "history = model.fit(train_dataloader,\n",
    "                    validation_data=test_dataloader,\n",
    "                    epochs=EPOCHS,\n",
    "                    callbacks=[cp_callback])"
   ]
  },
  {
   "cell_type": "code",
   "execution_count": 13,
   "id": "3d69e40e",
   "metadata": {
    "execution": {
     "iopub.execute_input": "2023-11-29T09:06:05.313697Z",
     "iopub.status.busy": "2023-11-29T09:06:05.312291Z",
     "iopub.status.idle": "2023-11-29T09:06:05.323009Z",
     "shell.execute_reply": "2023-11-29T09:06:05.321683Z"
    },
    "papermill": {
     "duration": 0.322966,
     "end_time": "2023-11-29T09:06:05.325576",
     "exception": false,
     "start_time": "2023-11-29T09:06:05.002610",
     "status": "completed"
    },
    "tags": []
   },
   "outputs": [],
   "source": [
    "def plot_history(history):\n",
    "    plt.plot(history.history[\"loss\"])\n",
    "    plt.plot(history.history[\"val_loss\"])\n",
    "    plt.xlabel(\"Epochs\")\n",
    "    plt.ylabel(\"log Loss\")\n",
    "    plt.legend([\"train\", \"validation\"], loc=\"upper right\")\n",
    "    plt.show()"
   ]
  },
  {
   "cell_type": "code",
   "execution_count": 14,
   "id": "b81fd59e",
   "metadata": {
    "execution": {
     "iopub.execute_input": "2023-11-29T09:06:05.942195Z",
     "iopub.status.busy": "2023-11-29T09:06:05.941561Z",
     "iopub.status.idle": "2023-11-29T09:06:06.237551Z",
     "shell.execute_reply": "2023-11-29T09:06:06.236594Z"
    },
    "papermill": {
     "duration": 0.602098,
     "end_time": "2023-11-29T09:06:06.239666",
     "exception": false,
     "start_time": "2023-11-29T09:06:05.637568",
     "status": "completed"
    },
    "tags": []
   },
   "outputs": [
    {
     "data": {
      "image/png": "[encoded data removed]",
      "text/plain": [
       "<Figure size 640x480 with 1 Axes>"
      ]
     },
     "metadata": {},
     "output_type": "display_data"
    }
   ],
   "source": [
    "plot_history(history)"
   ]
  },
  {
   "cell_type": "code",
   "execution_count": 15,
   "id": "fad5895e",
   "metadata": {
    "execution": {
     "iopub.execute_input": "2023-11-29T09:06:06.867034Z",
     "iopub.status.busy": "2023-11-29T09:06:06.866218Z",
     "iopub.status.idle": "2023-11-29T09:06:06.891548Z",
     "shell.execute_reply": "2023-11-29T09:06:06.890646Z"
    },
    "papermill": {
     "duration": 0.339272,
     "end_time": "2023-11-29T09:06:06.893619",
     "exception": false,
     "start_time": "2023-11-29T09:06:06.554347",
     "status": "completed"
    },
    "tags": []
   },
   "outputs": [],
   "source": [
    "model.load_weights(model_name)"
   ]
  },
  {
   "cell_type": "code",
   "execution_count": 16,
   "id": "2d891035",
   "metadata": {
    "execution": {
     "iopub.execute_input": "2023-11-29T09:06:07.555225Z",
     "iopub.status.busy": "2023-11-29T09:06:07.554378Z",
     "iopub.status.idle": "2023-11-29T09:06:17.081543Z",
     "shell.execute_reply": "2023-11-29T09:06:17.080536Z"
    },
    "papermill": {
     "duration": 9.885689,
     "end_time": "2023-11-29T09:06:17.083947",
     "exception": false,
     "start_time": "2023-11-29T09:06:07.198258",
     "status": "completed"
    },
    "tags": []
   },
   "outputs": [],
   "source": [
    "y_preds = []\n",
    "y_tests = []\n",
    "for i in range(50):\n",
    "    X_test, y_test = test_dataloader.__getitem__(i)\n",
    "    y_tests.append(y_test[0][0][0])\n",
    "    y_pred = model.predict(X_test, verbose=0)[0][0]\n",
    "    y_preds.append(y_pred)\n",
    "result_df = pd.DataFrame()\n",
    "result_df[\"y_tests\"] = y_tests\n",
    "result_df[\"y_preds\"] = y_preds"
   ]
  },
  {
   "cell_type": "code",
   "execution_count": 17,
   "id": "ade42d7b",
   "metadata": {
    "execution": {
     "iopub.execute_input": "2023-11-29T09:06:17.694543Z",
     "iopub.status.busy": "2023-11-29T09:06:17.693999Z",
     "iopub.status.idle": "2023-11-29T09:06:17.698969Z",
     "shell.execute_reply": "2023-11-29T09:06:17.697998Z"
    },
    "papermill": {
     "duration": 0.314965,
     "end_time": "2023-11-29T09:06:17.700891",
     "exception": false,
     "start_time": "2023-11-29T09:06:17.385926",
     "status": "completed"
    },
    "tags": []
   },
   "outputs": [],
   "source": [
    "# result_df = result_df[result_df[\"y_tests\"]!=0]"
   ]
  },
  {
   "cell_type": "code",
   "execution_count": 18,
   "id": "165fe149",
   "metadata": {
    "execution": {
     "iopub.execute_input": "2023-11-29T09:06:18.301195Z",
     "iopub.status.busy": "2023-11-29T09:06:18.300849Z",
     "iopub.status.idle": "2023-11-29T09:06:18.630571Z",
     "shell.execute_reply": "2023-11-29T09:06:18.629751Z"
    },
    "papermill": {
     "duration": 0.631978,
     "end_time": "2023-11-29T09:06:18.632752",
     "exception": false,
     "start_time": "2023-11-29T09:06:18.000774",
     "status": "completed"
    },
    "tags": []
   },
   "outputs": [
    {
     "data": {
      "text/plain": [
       "Text(0, 0.5, 'Rainfall acoustic (mm) (estimated)')"
      ]
     },
     "execution_count": 18,
     "metadata": {},
     "output_type": "execute_result"
    },
    {
     "data": {
      "image/png": "[encoded data removed]",
      "text/plain": [
       "<Figure size 640x480 with 1 Axes>"
      ]
     },
     "metadata": {},
     "output_type": "display_data"
    }
   ],
   "source": [
    "plt.scatter(result_df[\"y_tests\"], result_df[\"y_preds\"])\n",
    "plt.xlabel(\"Rainfall mechanical (mm)\")\n",
    "plt.ylabel(\"Rainfall acoustic (mm) (estimated)\")"
   ]
  },
  {
   "cell_type": "code",
   "execution_count": 19,
   "id": "3716ba6d",
   "metadata": {
    "execution": {
     "iopub.execute_input": "2023-11-29T09:06:19.234708Z",
     "iopub.status.busy": "2023-11-29T09:06:19.234050Z",
     "iopub.status.idle": "2023-11-29T09:06:19.257173Z",
     "shell.execute_reply": "2023-11-29T09:06:19.256253Z"
    },
    "papermill": {
     "duration": 0.323446,
     "end_time": "2023-11-29T09:06:19.259395",
     "exception": false,
     "start_time": "2023-11-29T09:06:18.935949",
     "status": "completed"
    },
    "tags": []
   },
   "outputs": [
    {
     "data": {
      "text/html": [
       "<div>\n",
       "<style scoped>\n",
       "    .dataframe tbody tr th:only-of-type {\n",
       "        vertical-align: middle;\n",
       "    }\n",
       "\n",
       "    .dataframe tbody tr th {\n",
       "        vertical-align: top;\n",
       "    }\n",
       "\n",
       "    .dataframe thead th {\n",
       "        text-align: right;\n",
       "    }\n",
       "</style>\n",
       "<table border=\"1\" class=\"dataframe\">\n",
       "  <thead>\n",
       "    <tr style=\"text-align: right;\">\n",
       "      <th></th>\n",
       "      <th>y_tests</th>\n",
       "      <th>y_preds</th>\n",
       "    </tr>\n",
       "  </thead>\n",
       "  <tbody>\n",
       "    <tr>\n",
       "      <th>0</th>\n",
       "      <td>0.2</td>\n",
       "      <td>0.361212</td>\n",
       "    </tr>\n",
       "    <tr>\n",
       "      <th>1</th>\n",
       "      <td>0.2</td>\n",
       "      <td>0.379939</td>\n",
       "    </tr>\n",
       "    <tr>\n",
       "      <th>2</th>\n",
       "      <td>0.8</td>\n",
       "      <td>0.758135</td>\n",
       "    </tr>\n",
       "    <tr>\n",
       "      <th>3</th>\n",
       "      <td>0.0</td>\n",
       "      <td>0.065725</td>\n",
       "    </tr>\n",
       "    <tr>\n",
       "      <th>4</th>\n",
       "      <td>0.0</td>\n",
       "      <td>0.062250</td>\n",
       "    </tr>\n",
       "    <tr>\n",
       "      <th>5</th>\n",
       "      <td>0.2</td>\n",
       "      <td>0.205345</td>\n",
       "    </tr>\n",
       "    <tr>\n",
       "      <th>6</th>\n",
       "      <td>0.0</td>\n",
       "      <td>0.066118</td>\n",
       "    </tr>\n",
       "    <tr>\n",
       "      <th>7</th>\n",
       "      <td>0.4</td>\n",
       "      <td>0.299449</td>\n",
       "    </tr>\n",
       "    <tr>\n",
       "      <th>8</th>\n",
       "      <td>0.0</td>\n",
       "      <td>0.007815</td>\n",
       "    </tr>\n",
       "    <tr>\n",
       "      <th>9</th>\n",
       "      <td>0.8</td>\n",
       "      <td>0.622258</td>\n",
       "    </tr>\n",
       "    <tr>\n",
       "      <th>10</th>\n",
       "      <td>0.0</td>\n",
       "      <td>-0.016590</td>\n",
       "    </tr>\n",
       "    <tr>\n",
       "      <th>11</th>\n",
       "      <td>0.2</td>\n",
       "      <td>0.226760</td>\n",
       "    </tr>\n",
       "    <tr>\n",
       "      <th>12</th>\n",
       "      <td>1.6</td>\n",
       "      <td>1.654691</td>\n",
       "    </tr>\n",
       "    <tr>\n",
       "      <th>13</th>\n",
       "      <td>0.2</td>\n",
       "      <td>0.203527</td>\n",
       "    </tr>\n",
       "    <tr>\n",
       "      <th>14</th>\n",
       "      <td>0.2</td>\n",
       "      <td>0.259590</td>\n",
       "    </tr>\n",
       "    <tr>\n",
       "      <th>15</th>\n",
       "      <td>0.0</td>\n",
       "      <td>0.112163</td>\n",
       "    </tr>\n",
       "    <tr>\n",
       "      <th>16</th>\n",
       "      <td>0.0</td>\n",
       "      <td>-0.023862</td>\n",
       "    </tr>\n",
       "    <tr>\n",
       "      <th>17</th>\n",
       "      <td>0.2</td>\n",
       "      <td>0.351223</td>\n",
       "    </tr>\n",
       "    <tr>\n",
       "      <th>18</th>\n",
       "      <td>0.0</td>\n",
       "      <td>0.061869</td>\n",
       "    </tr>\n",
       "    <tr>\n",
       "      <th>19</th>\n",
       "      <td>0.0</td>\n",
       "      <td>0.079066</td>\n",
       "    </tr>\n",
       "    <tr>\n",
       "      <th>20</th>\n",
       "      <td>0.2</td>\n",
       "      <td>0.323000</td>\n",
       "    </tr>\n",
       "    <tr>\n",
       "      <th>21</th>\n",
       "      <td>0.0</td>\n",
       "      <td>0.075218</td>\n",
       "    </tr>\n",
       "    <tr>\n",
       "      <th>22</th>\n",
       "      <td>0.2</td>\n",
       "      <td>0.471273</td>\n",
       "    </tr>\n",
       "    <tr>\n",
       "      <th>23</th>\n",
       "      <td>0.0</td>\n",
       "      <td>0.056207</td>\n",
       "    </tr>\n",
       "    <tr>\n",
       "      <th>24</th>\n",
       "      <td>0.0</td>\n",
       "      <td>0.060272</td>\n",
       "    </tr>\n",
       "    <tr>\n",
       "      <th>25</th>\n",
       "      <td>0.0</td>\n",
       "      <td>0.068454</td>\n",
       "    </tr>\n",
       "    <tr>\n",
       "      <th>26</th>\n",
       "      <td>0.4</td>\n",
       "      <td>0.391469</td>\n",
       "    </tr>\n",
       "    <tr>\n",
       "      <th>27</th>\n",
       "      <td>0.6</td>\n",
       "      <td>0.522412</td>\n",
       "    </tr>\n",
       "    <tr>\n",
       "      <th>28</th>\n",
       "      <td>0.0</td>\n",
       "      <td>0.028961</td>\n",
       "    </tr>\n",
       "    <tr>\n",
       "      <th>29</th>\n",
       "      <td>0.2</td>\n",
       "      <td>0.206910</td>\n",
       "    </tr>\n",
       "    <tr>\n",
       "      <th>30</th>\n",
       "      <td>1.2</td>\n",
       "      <td>0.352039</td>\n",
       "    </tr>\n",
       "    <tr>\n",
       "      <th>31</th>\n",
       "      <td>0.2</td>\n",
       "      <td>0.139757</td>\n",
       "    </tr>\n",
       "    <tr>\n",
       "      <th>32</th>\n",
       "      <td>3.8</td>\n",
       "      <td>3.971020</td>\n",
       "    </tr>\n",
       "    <tr>\n",
       "      <th>33</th>\n",
       "      <td>0.0</td>\n",
       "      <td>0.045889</td>\n",
       "    </tr>\n",
       "    <tr>\n",
       "      <th>34</th>\n",
       "      <td>0.2</td>\n",
       "      <td>0.157215</td>\n",
       "    </tr>\n",
       "    <tr>\n",
       "      <th>35</th>\n",
       "      <td>0.4</td>\n",
       "      <td>0.470397</td>\n",
       "    </tr>\n",
       "    <tr>\n",
       "      <th>36</th>\n",
       "      <td>0.0</td>\n",
       "      <td>-0.013560</td>\n",
       "    </tr>\n",
       "    <tr>\n",
       "      <th>37</th>\n",
       "      <td>3.2</td>\n",
       "      <td>3.496610</td>\n",
       "    </tr>\n",
       "    <tr>\n",
       "      <th>38</th>\n",
       "      <td>0.0</td>\n",
       "      <td>0.041101</td>\n",
       "    </tr>\n",
       "    <tr>\n",
       "      <th>39</th>\n",
       "      <td>0.6</td>\n",
       "      <td>0.671329</td>\n",
       "    </tr>\n",
       "    <tr>\n",
       "      <th>40</th>\n",
       "      <td>0.2</td>\n",
       "      <td>0.267420</td>\n",
       "    </tr>\n",
       "    <tr>\n",
       "      <th>41</th>\n",
       "      <td>0.2</td>\n",
       "      <td>0.317848</td>\n",
       "    </tr>\n",
       "    <tr>\n",
       "      <th>42</th>\n",
       "      <td>0.8</td>\n",
       "      <td>0.436151</td>\n",
       "    </tr>\n",
       "    <tr>\n",
       "      <th>43</th>\n",
       "      <td>0.0</td>\n",
       "      <td>-0.015959</td>\n",
       "    </tr>\n",
       "    <tr>\n",
       "      <th>44</th>\n",
       "      <td>0.6</td>\n",
       "      <td>0.606913</td>\n",
       "    </tr>\n",
       "    <tr>\n",
       "      <th>45</th>\n",
       "      <td>0.0</td>\n",
       "      <td>0.128065</td>\n",
       "    </tr>\n",
       "    <tr>\n",
       "      <th>46</th>\n",
       "      <td>0.2</td>\n",
       "      <td>0.195615</td>\n",
       "    </tr>\n",
       "    <tr>\n",
       "      <th>47</th>\n",
       "      <td>0.0</td>\n",
       "      <td>0.202899</td>\n",
       "    </tr>\n",
       "    <tr>\n",
       "      <th>48</th>\n",
       "      <td>0.0</td>\n",
       "      <td>0.110354</td>\n",
       "    </tr>\n",
       "    <tr>\n",
       "      <th>49</th>\n",
       "      <td>0.0</td>\n",
       "      <td>-0.027407</td>\n",
       "    </tr>\n",
       "  </tbody>\n",
       "</table>\n",
       "</div>"
      ],
      "text/plain": [
       "    y_tests   y_preds\n",
       "0       0.2  0.361212\n",
       "1       0.2  0.379939\n",
       "2       0.8  0.758135\n",
       "3       0.0  0.065725\n",
       "4       0.0  0.062250\n",
       "5       0.2  0.205345\n",
       "6       0.0  0.066118\n",
       "7       0.4  0.299449\n",
       "8       0.0  0.007815\n",
       "9       0.8  0.622258\n",
       "10      0.0 -0.016590\n",
       "11      0.2  0.226760\n",
       "12      1.6  1.654691\n",
       "13      0.2  0.203527\n",
       "14      0.2  0.259590\n",
       "15      0.0  0.112163\n",
       "16      0.0 -0.023862\n",
       "17      0.2  0.351223\n",
       "18      0.0  0.061869\n",
       "19      0.0  0.079066\n",
       "20      0.2  0.323000\n",
       "21      0.0  0.075218\n",
       "22      0.2  0.471273\n",
       "23      0.0  0.056207\n",
       "24      0.0  0.060272\n",
       "25      0.0  0.068454\n",
       "26      0.4  0.391469\n",
       "27      0.6  0.522412\n",
       "28      0.0  0.028961\n",
       "29      0.2  0.206910\n",
       "30      1.2  0.352039\n",
       "31      0.2  0.139757\n",
       "32      3.8  3.971020\n",
       "33      0.0  0.045889\n",
       "34      0.2  0.157215\n",
       "35      0.4  0.470397\n",
       "36      0.0 -0.013560\n",
       "37      3.2  3.496610\n",
       "38      0.0  0.041101\n",
       "39      0.6  0.671329\n",
       "40      0.2  0.267420\n",
       "41      0.2  0.317848\n",
       "42      0.8  0.436151\n",
       "43      0.0 -0.015959\n",
       "44      0.6  0.606913\n",
       "45      0.0  0.128065\n",
       "46      0.2  0.195615\n",
       "47      0.0  0.202899\n",
       "48      0.0  0.110354\n",
       "49      0.0 -0.027407"
      ]
     },
     "execution_count": 19,
     "metadata": {},
     "output_type": "execute_result"
    }
   ],
   "source": [
    "result_df"
   ]
  },
  {
   "cell_type": "code",
   "execution_count": 20,
   "id": "1eabc89e",
   "metadata": {
    "execution": {
     "iopub.execute_input": "2023-11-29T09:06:19.867723Z",
     "iopub.status.busy": "2023-11-29T09:06:19.867300Z",
     "iopub.status.idle": "2023-11-29T09:06:19.877581Z",
     "shell.execute_reply": "2023-11-29T09:06:19.876647Z"
    },
    "papermill": {
     "duration": 0.317366,
     "end_time": "2023-11-29T09:06:19.879542",
     "exception": false,
     "start_time": "2023-11-29T09:06:19.562176",
     "status": "completed"
    },
    "tags": []
   },
   "outputs": [
    {
     "name": "stdout",
     "output_type": "stream",
     "text": [
      "Mean Absolute Percentage Error: 31.154%\n"
     ]
    }
   ],
   "source": [
    "result = result_df[(result_df[\"y_tests\"]!=0.0)]\n",
    "A = result[\"y_tests\"]\n",
    "F = result[\"y_preds\"]\n",
    "N = result.shape[0]\n",
    "MAPE = np.sum(abs((A-F)/(A+0.00001)))*100/N\n",
    "print(\"Mean Absolute Percentage Error: {}%\".format(np.round(MAPE, 3)))"
   ]
  },
  {
   "cell_type": "code",
   "execution_count": null,
   "id": "fe84684b",
   "metadata": {
    "papermill": {
     "duration": 0.309443,
     "end_time": "2023-11-29T09:06:20.528860",
     "exception": false,
     "start_time": "2023-11-29T09:06:20.219417",
     "status": "completed"
    },
    "tags": []
   },
   "outputs": [],
   "source": []
  }
 ],
 "metadata": {
  "kaggle": {
   "accelerator": "nvidiaTeslaT4",
   "dataSources": [
    {
     "datasetId": 4072404,
     "sourceId": 7071470,
     "sourceType": "datasetVersion"
    }
   ],
   "dockerImageVersionId": 30587,
   "isGpuEnabled": true,
   "isInternetEnabled": true,
   "language": "python",
   "sourceType": "notebook"
  },
  "kernelspec": {
   "display_name": "Python 3",
   "language": "python",
   "name": "python3"
  },
  "language_info": {
   "codemirror_mode": {
    "name": "ipython",
    "version": 3
   },
   "file_extension": ".py",
   "mimetype": "text/x-python",
   "name": "python",
   "nbconvert_exporter": "python",
   "pygments_lexer": "ipython3",
   "version": "3.10.12"
  },
  "papermill": {
   "default_parameters": {},
   "duration": 655.106014,
   "end_time": "2023-11-29T09:06:24.327225",
   "environment_variables": {},
   "exception": null,
   "input_path": "__notebook__.ipynb",
   "output_path": "__notebook__.ipynb",
   "parameters": {},
   "start_time": "2023-11-29T08:55:29.221211",
   "version": "2.4.0"
  }
 },
 "nbformat": 4,
 "nbformat_minor": 5
}
