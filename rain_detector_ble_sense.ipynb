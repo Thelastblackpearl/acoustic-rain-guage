{
 "cells": [
  {
   "cell_type": "code",
   "execution_count": 1,
   "id": "bb5a9b94",
   "metadata": {
    "execution": {
     "iopub.execute_input": "2023-11-09T23:07:27.191792Z",
     "iopub.status.busy": "2023-11-09T23:07:27.191397Z",
     "iopub.status.idle": "2023-11-09T23:07:49.616188Z",
     "shell.execute_reply": "2023-11-09T23:07:49.614668Z"
    },
    "papermill": {
     "duration": 22.436415,
     "end_time": "2023-11-09T23:07:49.619262",
     "exception": false,
     "start_time": "2023-11-09T23:07:27.182847",
     "status": "completed"
    },
    "tags": []
   },
   "outputs": [],
   "source": [
    "!pip install everywhereml --quiet"
   ]
  },
  {
   "cell_type": "code",
   "execution_count": 2,
   "id": "72a0a5a7",
   "metadata": {
    "execution": {
     "iopub.execute_input": "2023-11-09T23:07:49.633676Z",
     "iopub.status.busy": "2023-11-09T23:07:49.633249Z",
     "iopub.status.idle": "2023-11-09T23:08:03.020332Z",
     "shell.execute_reply": "2023-11-09T23:08:03.019043Z"
    },
    "papermill": {
     "duration": 13.397826,
     "end_time": "2023-11-09T23:08:03.023263",
     "exception": false,
     "start_time": "2023-11-09T23:07:49.625437",
     "status": "completed"
    },
    "tags": []
   },
   "outputs": [],
   "source": [
    "import librosa\n",
    "import numpy as np\n",
    "import pandas as pd\n",
    "from os.path import join\n",
    "from os import listdir\n",
    "from scipy.io import wavfile\n",
    "from keras.layers import Dense\n",
    "import matplotlib.pyplot as plt\n",
    "from keras.models import Sequential\n",
    "from tensorflow.keras.regularizers import l2\n",
    "from sklearn.model_selection import train_test_split\n",
    "from tensorflow.keras.callbacks import ModelCheckpoint\n",
    "from tensorflow.keras.initializers import RandomUniform\n",
    "from everywhereml.code_generators.tensorflow import tf_porter"
   ]
  },
  {
   "cell_type": "code",
   "execution_count": 3,
   "id": "c0bbf8e1",
   "metadata": {
    "execution": {
     "iopub.execute_input": "2023-11-09T23:08:03.037638Z",
     "iopub.status.busy": "2023-11-09T23:08:03.036886Z",
     "iopub.status.idle": "2023-11-09T23:08:03.047130Z",
     "shell.execute_reply": "2023-11-09T23:08:03.045700Z"
    },
    "papermill": {
     "duration": 0.020173,
     "end_time": "2023-11-09T23:08:03.049642",
     "exception": false,
     "start_time": "2023-11-09T23:08:03.029469",
     "status": "completed"
    },
    "tags": []
   },
   "outputs": [],
   "source": [
    "def create_dnn_mini(in_shape):\n",
    "    model = Sequential()\n",
    "    model.add(Dense(8,\n",
    "                    kernel_initializer=RandomUniform(minval=-0.05, maxval=0.05),\n",
    "                    kernel_regularizer=l2(0.001),\n",
    "                    activation=\"relu\"))\n",
    "    model.add(Dense(32,\n",
    "                    kernel_initializer=RandomUniform(minval=-0.05, maxval=0.05),\n",
    "                    kernel_regularizer=l2(0.001),\n",
    "                    activation=\"relu\"))\n",
    "    model.add(Dense(16, activation=\"relu\", kernel_regularizer=l2(0.001)))\n",
    "    model.add(Dense(2,\n",
    "                    kernel_initializer=RandomUniform(minval=-0.05, maxval=0.05),\n",
    "                    kernel_regularizer=l2(0.001),\n",
    "                    activation=\"softmax\"))\n",
    "\n",
    "    model.compile(optimizer=\"Adam\", \n",
    "                  loss=\"sparse_categorical_crossentropy\", \n",
    "                  metrics=[\"accuracy\"])\n",
    "    return model"
   ]
  },
  {
   "cell_type": "code",
   "execution_count": 4,
   "id": "a0bda8f4",
   "metadata": {
    "execution": {
     "iopub.execute_input": "2023-11-09T23:08:03.063487Z",
     "iopub.status.busy": "2023-11-09T23:08:03.063061Z",
     "iopub.status.idle": "2023-11-09T23:08:03.069476Z",
     "shell.execute_reply": "2023-11-09T23:08:03.068245Z"
    },
    "papermill": {
     "duration": 0.016589,
     "end_time": "2023-11-09T23:08:03.072388",
     "exception": false,
     "start_time": "2023-11-09T23:08:03.055799",
     "status": "completed"
    },
    "tags": []
   },
   "outputs": [],
   "source": [
    "def plot_history(history):\n",
    "    plt.plot(history.history[\"loss\"])\n",
    "    plt.plot(history.history[\"val_loss\"])\n",
    "    plt.xlabel(\"Epochs\")\n",
    "    plt.ylabel(\"log Loss\")\n",
    "    plt.legend([\"train\", \"validation\"], loc=\"upper right\")\n",
    "    plt.show()"
   ]
  },
  {
   "cell_type": "code",
   "execution_count": 5,
   "id": "b84d3b13",
   "metadata": {
    "_cell_guid": "b1076dfc-b9ad-4769-8c92-a6c4dae69d19",
    "_uuid": "8f2839f25d086af736a60e9eeb907d3b93b6e0e5",
    "execution": {
     "iopub.execute_input": "2023-11-09T23:08:03.086625Z",
     "iopub.status.busy": "2023-11-09T23:08:03.086190Z",
     "iopub.status.idle": "2023-11-09T23:08:03.092473Z",
     "shell.execute_reply": "2023-11-09T23:08:03.091022Z"
    },
    "papermill": {
     "duration": 0.016709,
     "end_time": "2023-11-09T23:08:03.095268",
     "exception": false,
     "start_time": "2023-11-09T23:08:03.078559",
     "status": "completed"
    },
    "tags": []
   },
   "outputs": [],
   "source": [
    "RECORDING_DIR = \"/kaggle/input/rainfall-processed-16khz-16bit/processed_dataset/\"\n",
    "HEADER_FILES_FOLDER=\"/kaggle/working/\"\n",
    "HEADER_FILE_NAME = \"dnn_model.h\"\n",
    "CLASSES = [\"rain\", \"ambient\"]\n",
    "EPOCHS = 30\n",
    "BATCH_SIZE = 16\n",
    "SAMPLE_DURATION = 1\n",
    "SAMPLING_RATE = 16000\n",
    "VALIDATION_SPLIT = 0.25\n",
    "VALIDATION_LOSS_CUTOFF = 0.02"
   ]
  },
  {
   "cell_type": "code",
   "execution_count": 6,
   "id": "47a1ec26",
   "metadata": {
    "execution": {
     "iopub.execute_input": "2023-11-09T23:08:03.109986Z",
     "iopub.status.busy": "2023-11-09T23:08:03.109550Z",
     "iopub.status.idle": "2023-11-09T23:08:03.294618Z",
     "shell.execute_reply": "2023-11-09T23:08:03.293270Z"
    },
    "papermill": {
     "duration": 0.19566,
     "end_time": "2023-11-09T23:08:03.297378",
     "exception": false,
     "start_time": "2023-11-09T23:08:03.101718",
     "status": "completed"
    },
    "tags": []
   },
   "outputs": [],
   "source": [
    "file_names = []\n",
    "target = []\n",
    "\n",
    "for label in CLASSES:\n",
    "    fnames = listdir(join(RECORDING_DIR, label))\n",
    "    num_samples = len(fnames)\n",
    "    file_names.extend(fnames)\n",
    "    target.extend([label] * num_samples)"
   ]
  },
  {
   "cell_type": "code",
   "execution_count": 7,
   "id": "5a6ca963",
   "metadata": {
    "execution": {
     "iopub.execute_input": "2023-11-09T23:08:03.311499Z",
     "iopub.status.busy": "2023-11-09T23:08:03.311068Z",
     "iopub.status.idle": "2023-11-09T23:08:03.336613Z",
     "shell.execute_reply": "2023-11-09T23:08:03.335313Z"
    },
    "papermill": {
     "duration": 0.035844,
     "end_time": "2023-11-09T23:08:03.339362",
     "exception": false,
     "start_time": "2023-11-09T23:08:03.303518",
     "status": "completed"
    },
    "tags": []
   },
   "outputs": [],
   "source": [
    "result_df = pd.DataFrame()\n",
    "basic_data = pd.DataFrame()\n",
    "basic_data[\"filename\"] = file_names\n",
    "basic_data[\"class\"] = target\n",
    "basic_data[\"target\"] = basic_data[\"class\"].replace({\"ambient\": 0, \"rain\": 1})"
   ]
  },
  {
   "cell_type": "code",
   "execution_count": 8,
   "id": "4d44cc33",
   "metadata": {
    "execution": {
     "iopub.execute_input": "2023-11-09T23:08:03.353239Z",
     "iopub.status.busy": "2023-11-09T23:08:03.352763Z",
     "iopub.status.idle": "2023-11-09T23:08:03.361134Z",
     "shell.execute_reply": "2023-11-09T23:08:03.359834Z"
    },
    "papermill": {
     "duration": 0.01823,
     "end_time": "2023-11-09T23:08:03.363579",
     "exception": false,
     "start_time": "2023-11-09T23:08:03.345349",
     "status": "completed"
    },
    "tags": []
   },
   "outputs": [],
   "source": [
    "def create_dnn_data(basic_data):\n",
    "    spectrum_data = np.empty((0, SAMPLING_RATE*SAMPLE_DURATION), float)\n",
    "    for index, row in basic_data.iterrows():\n",
    "        file_path = join(RECORDING_DIR, row[\"class\"], row[\"filename\"])\n",
    "        Fs, x = wavfile.read(file_path)\n",
    "        xfft = np.abs(np.fft.fft(x))\n",
    "        xfft = xfft.astype(np.int16)\n",
    "        spectrum_data = np.vstack([spectrum_data, xfft])\n",
    "    return spectrum_data"
   ]
  },
  {
   "cell_type": "code",
   "execution_count": 9,
   "id": "55c268f4",
   "metadata": {
    "execution": {
     "iopub.execute_input": "2023-11-09T23:08:03.378246Z",
     "iopub.status.busy": "2023-11-09T23:08:03.377624Z",
     "iopub.status.idle": "2023-11-09T23:08:13.215741Z",
     "shell.execute_reply": "2023-11-09T23:08:13.214491Z"
    },
    "papermill": {
     "duration": 9.848801,
     "end_time": "2023-11-09T23:08:13.218822",
     "exception": false,
     "start_time": "2023-11-09T23:08:03.370021",
     "status": "completed"
    },
    "tags": []
   },
   "outputs": [],
   "source": [
    "spectrum_data = create_dnn_data(basic_data)\n",
    "basic_data[\"target\"] = pd.to_numeric(basic_data[\"target\"])\n",
    "X_train, X_test, y_train, y_test = train_test_split(spectrum_data,\n",
    "                                                    basic_data[\"target\"],\n",
    "                                                    test_size=VALIDATION_SPLIT,\n",
    "                                                    random_state=2)"
   ]
  },
  {
   "cell_type": "code",
   "execution_count": 10,
   "id": "d9e0187b",
   "metadata": {
    "execution": {
     "iopub.execute_input": "2023-11-09T23:08:13.232685Z",
     "iopub.status.busy": "2023-11-09T23:08:13.232265Z",
     "iopub.status.idle": "2023-11-09T23:08:13.384521Z",
     "shell.execute_reply": "2023-11-09T23:08:13.383465Z"
    },
    "papermill": {
     "duration": 0.162526,
     "end_time": "2023-11-09T23:08:13.387418",
     "exception": false,
     "start_time": "2023-11-09T23:08:13.224892",
     "status": "completed"
    },
    "tags": []
   },
   "outputs": [],
   "source": [
    "model = create_dnn_mini(X_train[0].shape)\n",
    "cp_callback = ModelCheckpoint(filepath=\"./model/dnn.hdf5\",\n",
    "                              monitor=\"val_loss\",\n",
    "                              verbose=0,\n",
    "                              save_best_only=True,\n",
    "                              mode=\"min\")"
   ]
  },
  {
   "cell_type": "code",
   "execution_count": 11,
   "id": "cc7353ce",
   "metadata": {
    "execution": {
     "iopub.execute_input": "2023-11-09T23:08:13.401670Z",
     "iopub.status.busy": "2023-11-09T23:08:13.401248Z",
     "iopub.status.idle": "2023-11-09T23:08:20.006902Z",
     "shell.execute_reply": "2023-11-09T23:08:20.005868Z"
    },
    "papermill": {
     "duration": 6.615898,
     "end_time": "2023-11-09T23:08:20.009556",
     "exception": false,
     "start_time": "2023-11-09T23:08:13.393658",
     "status": "completed"
    },
    "tags": []
   },
   "outputs": [
    {
     "name": "stdout",
     "output_type": "stream",
     "text": [
      "Epoch 1/30\n",
      "23/23 [==============================] - 2s 31ms/step - loss: 98.8673 - accuracy: 0.4861 - val_loss: 10.4883 - val_accuracy: 0.6000\n",
      "Epoch 2/30\n",
      "23/23 [==============================] - 0s 8ms/step - loss: 6.6756 - accuracy: 0.6889 - val_loss: 9.2936 - val_accuracy: 0.5667\n",
      "Epoch 3/30\n",
      "23/23 [==============================] - 0s 7ms/step - loss: 1.9904 - accuracy: 0.7889 - val_loss: 8.9396 - val_accuracy: 0.5500\n",
      "Epoch 4/30\n",
      "23/23 [==============================] - 0s 8ms/step - loss: 1.3249 - accuracy: 0.7972 - val_loss: 7.8003 - val_accuracy: 0.6750\n",
      "Epoch 5/30\n",
      "23/23 [==============================] - 0s 7ms/step - loss: 1.1018 - accuracy: 0.8250 - val_loss: 7.0519 - val_accuracy: 0.6167\n",
      "Epoch 6/30\n",
      "23/23 [==============================] - 0s 7ms/step - loss: 0.5156 - accuracy: 0.8444 - val_loss: 7.1457 - val_accuracy: 0.6167\n",
      "Epoch 7/30\n",
      "23/23 [==============================] - 0s 6ms/step - loss: 0.4619 - accuracy: 0.8500 - val_loss: 7.3291 - val_accuracy: 0.6083\n",
      "Epoch 8/30\n",
      "23/23 [==============================] - 0s 6ms/step - loss: 0.4464 - accuracy: 0.8611 - val_loss: 7.0701 - val_accuracy: 0.6667\n",
      "Epoch 9/30\n",
      "23/23 [==============================] - 0s 6ms/step - loss: 0.6029 - accuracy: 0.8583 - val_loss: 7.6736 - val_accuracy: 0.6833\n",
      "Epoch 10/30\n",
      "23/23 [==============================] - 0s 6ms/step - loss: 0.3821 - accuracy: 0.8750 - val_loss: 7.7934 - val_accuracy: 0.7250\n",
      "Epoch 11/30\n",
      "23/23 [==============================] - 0s 6ms/step - loss: 0.3732 - accuracy: 0.8750 - val_loss: 7.7956 - val_accuracy: 0.7167\n",
      "Epoch 12/30\n",
      "23/23 [==============================] - 0s 6ms/step - loss: 0.3676 - accuracy: 0.8750 - val_loss: 7.8053 - val_accuracy: 0.7000\n",
      "Epoch 13/30\n",
      "23/23 [==============================] - 0s 6ms/step - loss: 0.3662 - accuracy: 0.8750 - val_loss: 7.8089 - val_accuracy: 0.7000\n",
      "Epoch 14/30\n",
      "23/23 [==============================] - 0s 6ms/step - loss: 0.3647 - accuracy: 0.8806 - val_loss: 7.8358 - val_accuracy: 0.7000\n",
      "Epoch 15/30\n",
      "23/23 [==============================] - 0s 6ms/step - loss: 0.3580 - accuracy: 0.8833 - val_loss: 7.9368 - val_accuracy: 0.6917\n",
      "Epoch 16/30\n",
      "23/23 [==============================] - 0s 6ms/step - loss: 0.3565 - accuracy: 0.8861 - val_loss: 7.9444 - val_accuracy: 0.7083\n",
      "Epoch 17/30\n",
      "23/23 [==============================] - 0s 6ms/step - loss: 0.3529 - accuracy: 0.8917 - val_loss: 8.0193 - val_accuracy: 0.7083\n",
      "Epoch 18/30\n",
      "23/23 [==============================] - 0s 7ms/step - loss: 0.3491 - accuracy: 0.8917 - val_loss: 8.0478 - val_accuracy: 0.7167\n",
      "Epoch 19/30\n",
      "23/23 [==============================] - 0s 8ms/step - loss: 0.3485 - accuracy: 0.8917 - val_loss: 8.0512 - val_accuracy: 0.7167\n",
      "Epoch 20/30\n",
      "23/23 [==============================] - 0s 6ms/step - loss: 0.3478 - accuracy: 0.8917 - val_loss: 8.0510 - val_accuracy: 0.7167\n",
      "Epoch 21/30\n",
      "23/23 [==============================] - 0s 7ms/step - loss: 0.3472 - accuracy: 0.8917 - val_loss: 8.0512 - val_accuracy: 0.7167\n",
      "Epoch 22/30\n",
      "23/23 [==============================] - 0s 7ms/step - loss: 0.3466 - accuracy: 0.8917 - val_loss: 8.0512 - val_accuracy: 0.7167\n",
      "Epoch 23/30\n",
      "23/23 [==============================] - 0s 6ms/step - loss: 0.3461 - accuracy: 0.8917 - val_loss: 8.0520 - val_accuracy: 0.7167\n",
      "Epoch 24/30\n",
      "23/23 [==============================] - 0s 6ms/step - loss: 0.3455 - accuracy: 0.8917 - val_loss: 8.0538 - val_accuracy: 0.7167\n",
      "Epoch 25/30\n",
      "23/23 [==============================] - 0s 6ms/step - loss: 0.3450 - accuracy: 0.8917 - val_loss: 8.0544 - val_accuracy: 0.7167\n",
      "Epoch 26/30\n",
      "23/23 [==============================] - 0s 6ms/step - loss: 0.3445 - accuracy: 0.8917 - val_loss: 8.0556 - val_accuracy: 0.7167\n",
      "Epoch 27/30\n",
      "23/23 [==============================] - 0s 6ms/step - loss: 0.3442 - accuracy: 0.8917 - val_loss: 8.0573 - val_accuracy: 0.7250\n",
      "Epoch 28/30\n",
      "23/23 [==============================] - 0s 6ms/step - loss: 0.3437 - accuracy: 0.8917 - val_loss: 8.0583 - val_accuracy: 0.7250\n",
      "Epoch 29/30\n",
      "23/23 [==============================] - 0s 6ms/step - loss: 0.3433 - accuracy: 0.8917 - val_loss: 8.0595 - val_accuracy: 0.7250\n",
      "Epoch 30/30\n",
      "23/23 [==============================] - 0s 6ms/step - loss: 0.3429 - accuracy: 0.8917 - val_loss: 8.0615 - val_accuracy: 0.7250\n"
     ]
    }
   ],
   "source": [
    "history = model.fit(X_train,\n",
    "                y_train,\n",
    "                batch_size=BATCH_SIZE,\n",
    "                epochs=EPOCHS,\n",
    "                validation_data=(X_test, y_test),\n",
    "                callbacks=[cp_callback],\n",
    "                verbose=1)"
   ]
  },
  {
   "cell_type": "code",
   "execution_count": 12,
   "id": "97897cef",
   "metadata": {
    "execution": {
     "iopub.execute_input": "2023-11-09T23:08:20.046936Z",
     "iopub.status.busy": "2023-11-09T23:08:20.046153Z",
     "iopub.status.idle": "2023-11-09T23:08:20.147892Z",
     "shell.execute_reply": "2023-11-09T23:08:20.146540Z"
    },
    "papermill": {
     "duration": 0.123482,
     "end_time": "2023-11-09T23:08:20.150772",
     "exception": false,
     "start_time": "2023-11-09T23:08:20.027290",
     "status": "completed"
    },
    "tags": []
   },
   "outputs": [
    {
     "name": "stdout",
     "output_type": "stream",
     "text": [
      "4/4 [==============================] - 0s 3ms/step - loss: 8.0615 - accuracy: 0.7250\n"
     ]
    }
   ],
   "source": [
    "test_loss, test_accuracy = model.evaluate(X_test, y_test, verbose=1)\n",
    "row_df = pd.DataFrame({\"EPOCHS\": EPOCHS,\n",
    "                       \"Test_Accuracy\":\"{:5.2f}% \".format(100 * test_accuracy),\n",
    "                       \"Test_Loss\":test_loss}, index=[0])\n",
    "\n",
    "result_df = pd.concat([result_df, row_df])"
   ]
  },
  {
   "cell_type": "code",
   "execution_count": 13,
   "id": "9fbe213c",
   "metadata": {
    "execution": {
     "iopub.execute_input": "2023-11-09T23:08:20.187953Z",
     "iopub.status.busy": "2023-11-09T23:08:20.187506Z",
     "iopub.status.idle": "2023-11-09T23:08:20.511011Z",
     "shell.execute_reply": "2023-11-09T23:08:20.509779Z"
    },
    "papermill": {
     "duration": 0.345447,
     "end_time": "2023-11-09T23:08:20.513961",
     "exception": false,
     "start_time": "2023-11-09T23:08:20.168514",
     "status": "completed"
    },
    "tags": []
   },
   "outputs": [
    {
     "data": {
      "image/png": "[encoded data removed]",
      "text/plain": [
       "<Figure size 640x480 with 1 Axes>"
      ]
     },
     "metadata": {},
     "output_type": "display_data"
    }
   ],
   "source": [
    "plot_history(history)"
   ]
  },
  {
   "cell_type": "code",
   "execution_count": 14,
   "id": "42334d6a",
   "metadata": {
    "execution": {
     "iopub.execute_input": "2023-11-09T23:08:20.552767Z",
     "iopub.status.busy": "2023-11-09T23:08:20.551771Z",
     "iopub.status.idle": "2023-11-09T23:08:20.567927Z",
     "shell.execute_reply": "2023-11-09T23:08:20.566629Z"
    },
    "papermill": {
     "duration": 0.038119,
     "end_time": "2023-11-09T23:08:20.570469",
     "exception": false,
     "start_time": "2023-11-09T23:08:20.532350",
     "status": "completed"
    },
    "tags": []
   },
   "outputs": [
    {
     "data": {
      "text/html": [
       "<div>\n",
       "<style scoped>\n",
       "    .dataframe tbody tr th:only-of-type {\n",
       "        vertical-align: middle;\n",
       "    }\n",
       "\n",
       "    .dataframe tbody tr th {\n",
       "        vertical-align: top;\n",
       "    }\n",
       "\n",
       "    .dataframe thead th {\n",
       "        text-align: right;\n",
       "    }\n",
       "</style>\n",
       "<table border=\"1\" class=\"dataframe\">\n",
       "  <thead>\n",
       "    <tr style=\"text-align: right;\">\n",
       "      <th></th>\n",
       "      <th>EPOCHS</th>\n",
       "      <th>Test_Accuracy</th>\n",
       "      <th>Test_Loss</th>\n",
       "    </tr>\n",
       "  </thead>\n",
       "  <tbody>\n",
       "    <tr>\n",
       "      <th>0</th>\n",
       "      <td>30</td>\n",
       "      <td>72.50%</td>\n",
       "      <td>8.061499</td>\n",
       "    </tr>\n",
       "  </tbody>\n",
       "</table>\n",
       "</div>"
      ],
      "text/plain": [
       "   EPOCHS Test_Accuracy  Test_Loss\n",
       "0      30       72.50%    8.061499"
      ]
     },
     "execution_count": 14,
     "metadata": {},
     "output_type": "execute_result"
    }
   ],
   "source": [
    "result_df"
   ]
  },
  {
   "cell_type": "code",
   "execution_count": 15,
   "id": "1c431739",
   "metadata": {
    "execution": {
     "iopub.execute_input": "2023-11-09T23:08:20.609649Z",
     "iopub.status.busy": "2023-11-09T23:08:20.608826Z",
     "iopub.status.idle": "2023-11-09T23:08:20.632939Z",
     "shell.execute_reply": "2023-11-09T23:08:20.631895Z"
    },
    "papermill": {
     "duration": 0.046671,
     "end_time": "2023-11-09T23:08:20.635767",
     "exception": false,
     "start_time": "2023-11-09T23:08:20.589096",
     "status": "completed"
    },
    "tags": []
   },
   "outputs": [],
   "source": [
    "model.load_weights(\"./model/dnn.hdf5\")"
   ]
  },
  {
   "cell_type": "code",
   "execution_count": 16,
   "id": "64ba1ffc",
   "metadata": {
    "execution": {
     "iopub.execute_input": "2023-11-09T23:08:20.674131Z",
     "iopub.status.busy": "2023-11-09T23:08:20.673710Z",
     "iopub.status.idle": "2023-11-09T23:08:23.896731Z",
     "shell.execute_reply": "2023-11-09T23:08:23.895312Z"
    },
    "papermill": {
     "duration": 3.245805,
     "end_time": "2023-11-09T23:08:23.899709",
     "exception": false,
     "start_time": "2023-11-09T23:08:20.653904",
     "status": "completed"
    },
    "tags": []
   },
   "outputs": [],
   "source": [
    "porter = tf_porter(model, X_train, y_train)\n",
    "cpp_code = porter.to_cpp(instance_name='dnn_model', arena_size=4096)\n",
    "\n",
    "with open(join(HEADER_FILES_FOLDER, HEADER_FILE_NAME), \"w\") as f:\n",
    "        f.write(cpp_code)"
   ]
  },
  {
   "cell_type": "code",
   "execution_count": null,
   "id": "18569d59",
   "metadata": {
    "papermill": {
     "duration": 0.01758,
     "end_time": "2023-11-09T23:08:23.935669",
     "exception": false,
     "start_time": "2023-11-09T23:08:23.918089",
     "status": "completed"
    },
    "tags": []
   },
   "outputs": [],
   "source": []
  }
 ],
 "metadata": {
  "kernelspec": {
   "display_name": "Python 3",
   "language": "python",
   "name": "python3"
  },
  "language_info": {
   "codemirror_mode": {
    "name": "ipython",
    "version": 3
   },
   "file_extension": ".py",
   "mimetype": "text/x-python",
   "name": "python",
   "nbconvert_exporter": "python",
   "pygments_lexer": "ipython3",
   "version": "3.10.12"
  },
  "papermill": {
   "default_parameters": {},
   "duration": 63.18369,
   "end_time": "2023-11-09T23:08:25.782371",
   "environment_variables": {},
   "exception": null,
   "input_path": "__notebook__.ipynb",
   "output_path": "__notebook__.ipynb",
   "parameters": {},
   "start_time": "2023-11-09T23:07:22.598681",
   "version": "2.4.0"
  }
 },
 "nbformat": 4,
 "nbformat_minor": 5
}
