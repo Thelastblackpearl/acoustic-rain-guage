{
 "cells": [
  {
   "cell_type": "code",
   "execution_count": 1,
   "id": "b650a57d",
   "metadata": {
    "_cell_guid": "b1076dfc-b9ad-4769-8c92-a6c4dae69d19",
    "_uuid": "8f2839f25d086af736a60e9eeb907d3b93b6e0e5",
    "execution": {
     "iopub.execute_input": "2023-11-15T08:14:18.406968Z",
     "iopub.status.busy": "2023-11-15T08:14:18.406517Z",
     "iopub.status.idle": "2023-11-15T08:14:35.461447Z",
     "shell.execute_reply": "2023-11-15T08:14:35.460254Z"
    },
    "papermill": {
     "duration": 17.068773,
     "end_time": "2023-11-15T08:14:35.464673",
     "exception": false,
     "start_time": "2023-11-15T08:14:18.395900",
     "status": "completed"
    },
    "tags": []
   },
   "outputs": [],
   "source": [
    "import librosa\n",
    "import numpy as np\n",
    "import pandas as pd\n",
    "from tqdm import tqdm\n",
    "from os.path import join\n",
    "from scipy.io import wavfile\n",
    "from scipy.signal import stft\n",
    "from keras.models import Model\n",
    "import matplotlib.pyplot as plt\n",
    "from keras.models import Sequential\n",
    "from tensorflow.keras.optimizers import Adam\n",
    "from tensorflow.keras.regularizers import l2\n",
    "from keras.layers import Conv1D, BatchNormalization\n",
    "from sklearn.model_selection import train_test_split\n",
    "from tensorflow.keras.callbacks import ModelCheckpoint\n",
    "from keras.layers import Conv2D, MaxPooling2D, Flatten\n",
    "from tensorflow.keras.initializers import RandomUniform\n",
    "from keras.layers import Activation, TimeDistributed, GRU\n",
    "from keras.layers import Dense, Input, Dropout, LSTM, Concatenate, concatenate"
   ]
  },
  {
   "cell_type": "code",
   "execution_count": 2,
   "id": "9055eaec",
   "metadata": {
    "execution": {
     "iopub.execute_input": "2023-11-15T08:14:35.484614Z",
     "iopub.status.busy": "2023-11-15T08:14:35.483827Z",
     "iopub.status.idle": "2023-11-15T08:14:35.506493Z",
     "shell.execute_reply": "2023-11-15T08:14:35.505221Z"
    },
    "papermill": {
     "duration": 0.035597,
     "end_time": "2023-11-15T08:14:35.509376",
     "exception": false,
     "start_time": "2023-11-15T08:14:35.473779",
     "status": "completed"
    },
    "tags": []
   },
   "outputs": [],
   "source": [
    "BASIC_DATA_PATH = \"/kaggle/input/rain-drop-count-basic/rain_drops_dataset.csv\"\n",
    "AUDIO_FILE_PATH = \"/kaggle/input/rain-drop-mini-splitted/rain_drop_data\"\n",
    "basic_data = pd.read_csv(BASIC_DATA_PATH)\n",
    "SAMPLE_LENGTH = 9600\n",
    "VALIDATION_SPLIT = 0.25\n",
    "EPOCHS = 50\n",
    "BATCH_SIZE = 32\n",
    "model_name = \"./model/dnn.hdf5\"\n",
    "LEARNING_RATE = 0.001\n",
    "FRAME_SIZE = 1024"
   ]
  },
  {
   "cell_type": "code",
   "execution_count": 3,
   "id": "91c51d12",
   "metadata": {
    "execution": {
     "iopub.execute_input": "2023-11-15T08:14:35.528651Z",
     "iopub.status.busy": "2023-11-15T08:14:35.527966Z",
     "iopub.status.idle": "2023-11-15T08:14:35.535541Z",
     "shell.execute_reply": "2023-11-15T08:14:35.534634Z"
    },
    "papermill": {
     "duration": 0.019663,
     "end_time": "2023-11-15T08:14:35.537614",
     "exception": false,
     "start_time": "2023-11-15T08:14:35.517951",
     "status": "completed"
    },
    "tags": []
   },
   "outputs": [
    {
     "data": {
      "text/plain": [
       "(263, 2)"
      ]
     },
     "execution_count": 3,
     "metadata": {},
     "output_type": "execute_result"
    }
   ],
   "source": [
    "basic_data.shape"
   ]
  },
  {
   "cell_type": "code",
   "execution_count": 4,
   "id": "8d1ef1d9",
   "metadata": {
    "execution": {
     "iopub.execute_input": "2023-11-15T08:14:35.557070Z",
     "iopub.status.busy": "2023-11-15T08:14:35.556367Z",
     "iopub.status.idle": "2023-11-15T08:14:35.580757Z",
     "shell.execute_reply": "2023-11-15T08:14:35.579653Z"
    },
    "papermill": {
     "duration": 0.037421,
     "end_time": "2023-11-15T08:14:35.583718",
     "exception": false,
     "start_time": "2023-11-15T08:14:35.546297",
     "status": "completed"
    },
    "tags": []
   },
   "outputs": [
    {
     "data": {
      "text/plain": [
       "n_drops\n",
       "1.0    168\n",
       "0.0     45\n",
       "2.0     43\n",
       "3.0      3\n",
       "Name: count, dtype: int64"
      ]
     },
     "execution_count": 4,
     "metadata": {},
     "output_type": "execute_result"
    }
   ],
   "source": [
    "basic_data = basic_data.drop_duplicates([\"file_name\"])\n",
    "basic_data[\"n_drops\"].value_counts()"
   ]
  },
  {
   "cell_type": "code",
   "execution_count": 5,
   "id": "73190f89",
   "metadata": {
    "execution": {
     "iopub.execute_input": "2023-11-15T08:14:35.603706Z",
     "iopub.status.busy": "2023-11-15T08:14:35.603013Z",
     "iopub.status.idle": "2023-11-15T08:14:35.619120Z",
     "shell.execute_reply": "2023-11-15T08:14:35.617874Z"
    },
    "papermill": {
     "duration": 0.02959,
     "end_time": "2023-11-15T08:14:35.622162",
     "exception": false,
     "start_time": "2023-11-15T08:14:35.592572",
     "status": "completed"
    },
    "tags": []
   },
   "outputs": [],
   "source": [
    "df_minority_1  = basic_data[basic_data[\"n_drops\"]==0]\n",
    "df_minority_2  = basic_data[basic_data[\"n_drops\"]==2]\n",
    "df_majority = basic_data[basic_data[\"n_drops\"]==1]\n",
    "df_majority = df_majority.sample(len(df_minority_2), random_state=0)\n",
    "df = pd.concat([df_majority,df_minority_1, df_minority_2])\n",
    "basic_data = df.sample(frac=1, random_state=0)\n",
    "basic_data = basic_data[~basic_data[\"n_drops\"].isin([3])]"
   ]
  },
  {
   "cell_type": "code",
   "execution_count": 6,
   "id": "d2e9bba7",
   "metadata": {
    "execution": {
     "iopub.execute_input": "2023-11-15T08:14:35.641836Z",
     "iopub.status.busy": "2023-11-15T08:14:35.641371Z",
     "iopub.status.idle": "2023-11-15T08:14:35.651528Z",
     "shell.execute_reply": "2023-11-15T08:14:35.650046Z"
    },
    "papermill": {
     "duration": 0.022941,
     "end_time": "2023-11-15T08:14:35.654075",
     "exception": false,
     "start_time": "2023-11-15T08:14:35.631134",
     "status": "completed"
    },
    "tags": []
   },
   "outputs": [
    {
     "data": {
      "text/plain": [
       "n_drops\n",
       "0.0    45\n",
       "1.0    43\n",
       "2.0    43\n",
       "Name: count, dtype: int64"
      ]
     },
     "execution_count": 6,
     "metadata": {},
     "output_type": "execute_result"
    }
   ],
   "source": [
    "basic_data[\"n_drops\"].value_counts()"
   ]
  },
  {
   "cell_type": "code",
   "execution_count": 7,
   "id": "0ba359e7",
   "metadata": {
    "execution": {
     "iopub.execute_input": "2023-11-15T08:14:35.674315Z",
     "iopub.status.busy": "2023-11-15T08:14:35.673863Z",
     "iopub.status.idle": "2023-11-15T08:14:35.679001Z",
     "shell.execute_reply": "2023-11-15T08:14:35.677769Z"
    },
    "papermill": {
     "duration": 0.017989,
     "end_time": "2023-11-15T08:14:35.681465",
     "exception": false,
     "start_time": "2023-11-15T08:14:35.663476",
     "status": "completed"
    },
    "tags": []
   },
   "outputs": [],
   "source": [
    "N_CLASSES = 3"
   ]
  },
  {
   "cell_type": "code",
   "execution_count": 8,
   "id": "4ba4d337",
   "metadata": {
    "execution": {
     "iopub.execute_input": "2023-11-15T08:14:35.701709Z",
     "iopub.status.busy": "2023-11-15T08:14:35.701273Z",
     "iopub.status.idle": "2023-11-15T08:14:37.414298Z",
     "shell.execute_reply": "2023-11-15T08:14:37.413235Z"
    },
    "papermill": {
     "duration": 1.7263,
     "end_time": "2023-11-15T08:14:37.417226",
     "exception": false,
     "start_time": "2023-11-15T08:14:35.690926",
     "status": "completed"
    },
    "tags": []
   },
   "outputs": [],
   "source": [
    "raw_data = np.empty((0, int(SAMPLE_LENGTH)), float)\n",
    "for idx, row in basic_data.iterrows():\n",
    "    Fs, x = wavfile.read(join(AUDIO_FILE_PATH, row[\"file_name\"]))\n",
    "    x /= np.max(np.abs(x), axis=0)\n",
    "    raw_data = np.vstack([raw_data, x])"
   ]
  },
  {
   "cell_type": "code",
   "execution_count": 9,
   "id": "53cdd832",
   "metadata": {
    "execution": {
     "iopub.execute_input": "2023-11-15T08:14:37.437757Z",
     "iopub.status.busy": "2023-11-15T08:14:37.437369Z",
     "iopub.status.idle": "2023-11-15T08:14:37.443728Z",
     "shell.execute_reply": "2023-11-15T08:14:37.442595Z"
    },
    "papermill": {
     "duration": 0.019484,
     "end_time": "2023-11-15T08:14:37.446099",
     "exception": false,
     "start_time": "2023-11-15T08:14:37.426615",
     "status": "completed"
    },
    "tags": []
   },
   "outputs": [],
   "source": [
    "def create_dnn_data(raw_data):\n",
    "    spectrum_data = np.empty((0, int(SAMPLE_LENGTH)), float)\n",
    "    for audio in tqdm(raw_data):\n",
    "        xfft = np.abs(np.fft.fft(audio))\n",
    "        spectrum_data = np.vstack([spectrum_data, xfft])\n",
    "    return spectrum_data"
   ]
  },
  {
   "cell_type": "code",
   "execution_count": 10,
   "id": "e9f7f9bd",
   "metadata": {
    "execution": {
     "iopub.execute_input": "2023-11-15T08:14:37.466377Z",
     "iopub.status.busy": "2023-11-15T08:14:37.465368Z",
     "iopub.status.idle": "2023-11-15T08:14:37.475728Z",
     "shell.execute_reply": "2023-11-15T08:14:37.474819Z"
    },
    "papermill": {
     "duration": 0.023361,
     "end_time": "2023-11-15T08:14:37.478502",
     "exception": false,
     "start_time": "2023-11-15T08:14:37.455141",
     "status": "completed"
    },
    "tags": []
   },
   "outputs": [],
   "source": [
    "dim = [513, 38]\n",
    "def create_cnn_data(raw_data):\n",
    "    stft_data = np.empty(shape=[0, dim[0], dim[1]])\n",
    "    mfcc_data = np.empty(shape=[0, 13])\n",
    "    chroma_data = np.empty(shape=[0, 12])\n",
    "    mel_data = np.empty(shape=[0, 128])\n",
    "    for row in raw_data:\n",
    "        Zxx = librosa.stft(row, n_fft=FRAME_SIZE)\n",
    "        stft_sample = np.abs(Zxx)\n",
    "        stft_data = np.vstack([stft_data, stft_sample[np.newaxis,...]])\n",
    "        mfccs = np.mean(librosa.feature.mfcc(y=row, sr=Fs, n_mfcc=13), axis=1)\n",
    "        mfcc_data = np.vstack([mfcc_data, mfccs[np.newaxis,...]])\n",
    "        chroma = np.mean(librosa.feature.chroma_stft(y=row, sr=Fs), axis=1)\n",
    "        chroma_data = np.vstack([chroma_data, chroma[np.newaxis,...]])\n",
    "        mel = np.mean(librosa.feature.melspectrogram(y=row, sr=Fs), axis=1)\n",
    "        mel_data = np.vstack([mel_data, mel[np.newaxis,...]]) \n",
    "    return stft_data, mfcc_data, chroma_data, mel_data"
   ]
  },
  {
   "cell_type": "code",
   "execution_count": 11,
   "id": "b1c623f5",
   "metadata": {
    "execution": {
     "iopub.execute_input": "2023-11-15T08:14:37.498429Z",
     "iopub.status.busy": "2023-11-15T08:14:37.497425Z",
     "iopub.status.idle": "2023-11-15T08:14:37.505116Z",
     "shell.execute_reply": "2023-11-15T08:14:37.503880Z"
    },
    "papermill": {
     "duration": 0.020239,
     "end_time": "2023-11-15T08:14:37.507651",
     "exception": false,
     "start_time": "2023-11-15T08:14:37.487412",
     "status": "completed"
    },
    "tags": []
   },
   "outputs": [],
   "source": [
    "def create_dnn_model(in_shape):\n",
    "    model = Sequential()\n",
    "    model.add(Dense(16, activation=\"relu\", input_shape=in_shape))\n",
    "    model.add(Dense(32, activation=\"relu\", input_shape=in_shape))\n",
    "    model.add(Dense(64, activation=\"relu\", kernel_regularizer=l2(0.001)))\n",
    "    model.add(Dense(N_CLASSES,\n",
    "                    kernel_initializer=RandomUniform(minval=-0.05, maxval=0.05),\n",
    "                    kernel_regularizer=l2(0.001),\n",
    "                    activation=\"softmax\"))\n",
    "\n",
    "    model.compile(optimizer=adamopt, \n",
    "                  loss=\"sparse_categorical_crossentropy\", \n",
    "                  metrics=[\"accuracy\"])\n",
    "    return model"
   ]
  },
  {
   "cell_type": "code",
   "execution_count": 12,
   "id": "28328cb1",
   "metadata": {
    "execution": {
     "iopub.execute_input": "2023-11-15T08:14:37.527306Z",
     "iopub.status.busy": "2023-11-15T08:14:37.526849Z",
     "iopub.status.idle": "2023-11-15T08:14:37.536249Z",
     "shell.execute_reply": "2023-11-15T08:14:37.535128Z"
    },
    "papermill": {
     "duration": 0.022176,
     "end_time": "2023-11-15T08:14:37.538678",
     "exception": false,
     "start_time": "2023-11-15T08:14:37.516502",
     "status": "completed"
    },
    "tags": []
   },
   "outputs": [],
   "source": [
    "def create_functional_model():\n",
    "    input_2d = Input(shape=(513, 38), name='input_2d')\n",
    "    flattened_2d = Flatten()(input_2d)\n",
    "    input_1d_1 = Input(shape=(13,), name='input_1d_1')\n",
    "    input_1d_2 = Input(shape=(12,), name='input_1d_2')\n",
    "    input_1d_3 = Input(shape=(128,), name='input_1d_3')\n",
    "    flattened_2d = Dense(128, activation='relu')(flattened_2d)\n",
    "    merged_inputs = concatenate([flattened_2d, input_1d_1, input_1d_2, input_1d_3])\n",
    "    x = Dense(256, activation='relu')(merged_inputs)\n",
    "    x = Dense(128, activation='relu')(x)\n",
    "    output = Dense(N_CLASSES, activation='softmax', name='output')(x)\n",
    "\n",
    "    model = Model(inputs=[input_2d, input_1d_1, input_1d_2, input_1d_3], outputs=output)\n",
    "    model.compile(optimizer=adamopt, \n",
    "                  loss=\"sparse_categorical_crossentropy\", \n",
    "                  metrics=[\"accuracy\"])\n",
    "    return model"
   ]
  },
  {
   "cell_type": "code",
   "execution_count": 13,
   "id": "44cfc412",
   "metadata": {
    "execution": {
     "iopub.execute_input": "2023-11-15T08:14:37.558298Z",
     "iopub.status.busy": "2023-11-15T08:14:37.557892Z",
     "iopub.status.idle": "2023-11-15T08:14:37.568450Z",
     "shell.execute_reply": "2023-11-15T08:14:37.567107Z"
    },
    "papermill": {
     "duration": 0.023198,
     "end_time": "2023-11-15T08:14:37.570892",
     "exception": false,
     "start_time": "2023-11-15T08:14:37.547694",
     "status": "completed"
    },
    "tags": []
   },
   "outputs": [],
   "source": [
    "def create_cnn_model(in_shape):\n",
    "    model = Sequential()\n",
    "    model.add(Conv2D(8, kernel_size=(3, 3), activation='relu'))\n",
    "    model.add(Conv2D(16, (2, 2), activation='relu'))\n",
    "    model.add(MaxPooling2D((2, 2)))\n",
    "    model.add(Conv2D(32, (3, 3), activation='relu'))\n",
    "    model.add(MaxPooling2D((2, 2)))\n",
    "    model.add(Conv2D(64, (3, 3), activation='relu'))\n",
    "    model.add(Flatten())\n",
    "    model.add(Dense(16, kernel_initializer=RandomUniform(minval=-0.05,\n",
    "                    maxval=0.05), kernel_regularizer=l2(0.001),\n",
    "                    activation='relu'))\n",
    "    model.add(Dense(N_CLASSES, kernel_initializer=RandomUniform(minval=-0.05,\n",
    "                    maxval=0.05), kernel_regularizer=l2(0.001),\n",
    "                    activation='softmax'))\n",
    "    \n",
    "    model.compile(optimizer=adamopt,\n",
    "                  loss='sparse_categorical_crossentropy', \n",
    "                  metrics=['accuracy'])\n",
    "    return model"
   ]
  },
  {
   "cell_type": "code",
   "execution_count": 14,
   "id": "68714c5d",
   "metadata": {
    "execution": {
     "iopub.execute_input": "2023-11-15T08:14:37.591367Z",
     "iopub.status.busy": "2023-11-15T08:14:37.590557Z",
     "iopub.status.idle": "2023-11-15T08:14:37.597496Z",
     "shell.execute_reply": "2023-11-15T08:14:37.596259Z"
    },
    "papermill": {
     "duration": 0.020062,
     "end_time": "2023-11-15T08:14:37.599943",
     "exception": false,
     "start_time": "2023-11-15T08:14:37.579881",
     "status": "completed"
    },
    "tags": []
   },
   "outputs": [],
   "source": [
    "def plot_history(history):\n",
    "    plt.plot(history.history[\"loss\"])\n",
    "    plt.plot(history.history[\"val_loss\"])\n",
    "    plt.xlabel(\"Epochs\")\n",
    "    plt.ylabel(\"log Loss\")\n",
    "    plt.legend([\"train\", \"validation\"], loc=\"upper right\")\n",
    "    plt.show()"
   ]
  },
  {
   "cell_type": "code",
   "execution_count": 15,
   "id": "7523583b",
   "metadata": {
    "execution": {
     "iopub.execute_input": "2023-11-15T08:14:37.619985Z",
     "iopub.status.busy": "2023-11-15T08:14:37.619238Z",
     "iopub.status.idle": "2023-11-15T08:14:57.783074Z",
     "shell.execute_reply": "2023-11-15T08:14:57.781420Z"
    },
    "papermill": {
     "duration": 20.178521,
     "end_time": "2023-11-15T08:14:57.787565",
     "exception": false,
     "start_time": "2023-11-15T08:14:37.609044",
     "status": "completed"
    },
    "tags": []
   },
   "outputs": [
    {
     "name": "stderr",
     "output_type": "stream",
     "text": [
      "/opt/conda/lib/python3.10/site-packages/librosa/core/pitch.py:101: UserWarning: Trying to estimate tuning from empty frequency set.\n",
      "  return pitch_tuning(\n"
     ]
    }
   ],
   "source": [
    "target = basic_data[\"n_drops\"]\n",
    "\n",
    "# spectrum_data = create_dnn_data(raw_data)\n",
    "stft_data, mfcc_data, chroma_data, mel_data = create_cnn_data(raw_data)\n",
    "\n",
    "X_train_stft, X_test_stft,\\\n",
    "X_train_mfcc, X_test_mfcc, \\\n",
    "X_train_chroma, X_test_chroma,\\\n",
    "X_train_mel, X_test_mel, y_train, y_test = train_test_split(\n",
    "    stft_data,\n",
    "    mfcc_data,\n",
    "    chroma_data,\n",
    "    mel_data,\n",
    "    target,\n",
    "    test_size=VALIDATION_SPLIT,\n",
    "    random_state=2)"
   ]
  },
  {
   "cell_type": "code",
   "execution_count": 16,
   "id": "b75d8cf5",
   "metadata": {
    "execution": {
     "iopub.execute_input": "2023-11-15T08:14:57.828194Z",
     "iopub.status.busy": "2023-11-15T08:14:57.826805Z",
     "iopub.status.idle": "2023-11-15T08:14:57.934699Z",
     "shell.execute_reply": "2023-11-15T08:14:57.933544Z"
    },
    "papermill": {
     "duration": 0.131155,
     "end_time": "2023-11-15T08:14:57.937233",
     "exception": false,
     "start_time": "2023-11-15T08:14:57.806078",
     "status": "completed"
    },
    "tags": []
   },
   "outputs": [],
   "source": [
    "adamopt = Adam(learning_rate=LEARNING_RATE, beta_1=0.9, beta_2=0.999, epsilon=1e-8)"
   ]
  },
  {
   "cell_type": "code",
   "execution_count": 17,
   "id": "a8637946",
   "metadata": {
    "execution": {
     "iopub.execute_input": "2023-11-15T08:14:57.957687Z",
     "iopub.status.busy": "2023-11-15T08:14:57.957238Z",
     "iopub.status.idle": "2023-11-15T08:14:58.138640Z",
     "shell.execute_reply": "2023-11-15T08:14:58.137246Z"
    },
    "papermill": {
     "duration": 0.195165,
     "end_time": "2023-11-15T08:14:58.141747",
     "exception": false,
     "start_time": "2023-11-15T08:14:57.946582",
     "status": "completed"
    },
    "tags": []
   },
   "outputs": [],
   "source": [
    "# in_shape = X_train[0].shape\n",
    "# model = create_dnn_model(in_shape)\n",
    "# model = create_cnn_model(in_shape)\n",
    "\n",
    "model = create_functional_model()\n",
    "\n",
    "\n",
    "cp_callback = ModelCheckpoint(filepath=model_name,\n",
    "                              monitor=\"val_loss\",\n",
    "                              verbose=0,\n",
    "                              save_best_only=True,\n",
    "                              save_weights_only=True,\n",
    "                              mode=\"min\")"
   ]
  },
  {
   "cell_type": "code",
   "execution_count": 18,
   "id": "505e54cf",
   "metadata": {
    "execution": {
     "iopub.execute_input": "2023-11-15T08:14:58.162148Z",
     "iopub.status.busy": "2023-11-15T08:14:58.161156Z",
     "iopub.status.idle": "2023-11-15T08:14:58.201060Z",
     "shell.execute_reply": "2023-11-15T08:14:58.199765Z"
    },
    "papermill": {
     "duration": 0.062046,
     "end_time": "2023-11-15T08:14:58.212931",
     "exception": false,
     "start_time": "2023-11-15T08:14:58.150885",
     "status": "completed"
    },
    "tags": []
   },
   "outputs": [
    {
     "name": "stdout",
     "output_type": "stream",
     "text": [
      "Model: \"model\"\n",
      "__________________________________________________________________________________________________\n",
      " Layer (type)                Output Shape                 Param #   Connected to                  \n",
      "==================================================================================================\n",
      " input_2d (InputLayer)       [(None, 513, 38)]            0         []                            \n",
      "                                                                                                  \n",
      " flatten (Flatten)           (None, 19494)                0         ['input_2d[0][0]']            \n",
      "                                                                                                  \n",
      " dense (Dense)               (None, 128)                  2495360   ['flatten[0][0]']             \n",
      "                                                                                                  \n",
      " input_1d_1 (InputLayer)     [(None, 13)]                 0         []                            \n",
      "                                                                                                  \n",
      " input_1d_2 (InputLayer)     [(None, 12)]                 0         []                            \n",
      "                                                                                                  \n",
      " input_1d_3 (InputLayer)     [(None, 128)]                0         []                            \n",
      "                                                                                                  \n",
      " concatenate (Concatenate)   (None, 281)                  0         ['dense[0][0]',               \n",
      "                                                                     'input_1d_1[0][0]',          \n",
      "                                                                     'input_1d_2[0][0]',          \n",
      "                                                                     'input_1d_3[0][0]']          \n",
      "                                                                                                  \n",
      " dense_1 (Dense)             (None, 256)                  72192     ['concatenate[0][0]']         \n",
      "                                                                                                  \n",
      " dense_2 (Dense)             (None, 128)                  32896     ['dense_1[0][0]']             \n",
      "                                                                                                  \n",
      " output (Dense)              (None, 3)                    387       ['dense_2[0][0]']             \n",
      "                                                                                                  \n",
      "==================================================================================================\n",
      "Total params: 2600835 (9.92 MB)\n",
      "Trainable params: 2600835 (9.92 MB)\n",
      "Non-trainable params: 0 (0.00 Byte)\n",
      "__________________________________________________________________________________________________\n"
     ]
    }
   ],
   "source": [
    "model.summary()"
   ]
  },
  {
   "cell_type": "code",
   "execution_count": 19,
   "id": "a3245fea",
   "metadata": {
    "execution": {
     "iopub.execute_input": "2023-11-15T08:14:58.239238Z",
     "iopub.status.busy": "2023-11-15T08:14:58.238815Z",
     "iopub.status.idle": "2023-11-15T08:15:06.392481Z",
     "shell.execute_reply": "2023-11-15T08:15:06.391397Z"
    },
    "papermill": {
     "duration": 8.170159,
     "end_time": "2023-11-15T08:15:06.395141",
     "exception": false,
     "start_time": "2023-11-15T08:14:58.224982",
     "status": "completed"
    },
    "tags": []
   },
   "outputs": [
    {
     "name": "stdout",
     "output_type": "stream",
     "text": [
      "Epoch 1/50\n",
      "4/4 [==============================] - 1s 131ms/step - loss: 24.4805 - accuracy: 0.4898 - val_loss: 8.3588 - val_accuracy: 0.6667\n",
      "Epoch 2/50\n",
      "4/4 [==============================] - 0s 46ms/step - loss: 2.9402 - accuracy: 0.6633 - val_loss: 3.3741 - val_accuracy: 0.6970\n",
      "Epoch 3/50\n",
      "4/4 [==============================] - 0s 41ms/step - loss: 1.8104 - accuracy: 0.7245 - val_loss: 1.9663 - val_accuracy: 0.7576\n",
      "Epoch 4/50\n",
      "4/4 [==============================] - 0s 34ms/step - loss: 2.0001 - accuracy: 0.7857 - val_loss: 2.8445 - val_accuracy: 0.6667\n",
      "Epoch 5/50\n",
      "4/4 [==============================] - 0s 36ms/step - loss: 0.8358 - accuracy: 0.8061 - val_loss: 4.4287 - val_accuracy: 0.6970\n",
      "Epoch 6/50\n",
      "4/4 [==============================] - 0s 33ms/step - loss: 1.2553 - accuracy: 0.7755 - val_loss: 3.3528 - val_accuracy: 0.7273\n",
      "Epoch 7/50\n",
      "4/4 [==============================] - 0s 36ms/step - loss: 0.8894 - accuracy: 0.8980 - val_loss: 2.2836 - val_accuracy: 0.7273\n",
      "Epoch 8/50\n",
      "4/4 [==============================] - 0s 35ms/step - loss: 0.9322 - accuracy: 0.8980 - val_loss: 2.8256 - val_accuracy: 0.7273\n",
      "Epoch 9/50\n",
      "4/4 [==============================] - 0s 33ms/step - loss: 0.4326 - accuracy: 0.9490 - val_loss: 3.6807 - val_accuracy: 0.6667\n",
      "Epoch 10/50\n",
      "4/4 [==============================] - 0s 37ms/step - loss: 0.1225 - accuracy: 0.9388 - val_loss: 3.2571 - val_accuracy: 0.6970\n",
      "Epoch 11/50\n",
      "4/4 [==============================] - 0s 31ms/step - loss: 0.3484 - accuracy: 0.8980 - val_loss: 3.6439 - val_accuracy: 0.6970\n",
      "Epoch 12/50\n",
      "4/4 [==============================] - 0s 30ms/step - loss: 0.2711 - accuracy: 0.9388 - val_loss: 3.6037 - val_accuracy: 0.6970\n",
      "Epoch 13/50\n",
      "4/4 [==============================] - 0s 32ms/step - loss: 0.0112 - accuracy: 1.0000 - val_loss: 3.0754 - val_accuracy: 0.7879\n",
      "Epoch 14/50\n",
      "4/4 [==============================] - 0s 38ms/step - loss: 0.1476 - accuracy: 0.9592 - val_loss: 3.1624 - val_accuracy: 0.7879\n",
      "Epoch 15/50\n",
      "4/4 [==============================] - 0s 36ms/step - loss: 0.0259 - accuracy: 0.9796 - val_loss: 4.5178 - val_accuracy: 0.6667\n",
      "Epoch 16/50\n",
      "4/4 [==============================] - 0s 37ms/step - loss: 0.0231 - accuracy: 0.9898 - val_loss: 3.6796 - val_accuracy: 0.7576\n",
      "Epoch 17/50\n",
      "4/4 [==============================] - 0s 40ms/step - loss: 0.0181 - accuracy: 0.9898 - val_loss: 3.4927 - val_accuracy: 0.7273\n",
      "Epoch 18/50\n",
      "4/4 [==============================] - 0s 45ms/step - loss: 0.0467 - accuracy: 0.9694 - val_loss: 3.6532 - val_accuracy: 0.7576\n",
      "Epoch 19/50\n",
      "4/4 [==============================] - 0s 43ms/step - loss: 0.0017 - accuracy: 1.0000 - val_loss: 4.0251 - val_accuracy: 0.6970\n",
      "Epoch 20/50\n",
      "4/4 [==============================] - 0s 40ms/step - loss: 9.4717e-04 - accuracy: 1.0000 - val_loss: 4.4363 - val_accuracy: 0.6970\n",
      "Epoch 21/50\n",
      "4/4 [==============================] - 0s 35ms/step - loss: 0.0028 - accuracy: 1.0000 - val_loss: 4.5757 - val_accuracy: 0.6970\n",
      "Epoch 22/50\n",
      "4/4 [==============================] - 0s 37ms/step - loss: 0.0029 - accuracy: 1.0000 - val_loss: 4.4842 - val_accuracy: 0.6970\n",
      "Epoch 23/50\n",
      "4/4 [==============================] - 0s 34ms/step - loss: 0.0020 - accuracy: 1.0000 - val_loss: 4.2873 - val_accuracy: 0.6970\n",
      "Epoch 24/50\n",
      "4/4 [==============================] - 0s 47ms/step - loss: 7.5711e-04 - accuracy: 1.0000 - val_loss: 4.1131 - val_accuracy: 0.6970\n",
      "Epoch 25/50\n",
      "4/4 [==============================] - 0s 37ms/step - loss: 4.4573e-04 - accuracy: 1.0000 - val_loss: 3.9673 - val_accuracy: 0.6970\n",
      "Epoch 26/50\n",
      "4/4 [==============================] - 0s 46ms/step - loss: 2.0782e-04 - accuracy: 1.0000 - val_loss: 3.8676 - val_accuracy: 0.6970\n",
      "Epoch 27/50\n",
      "4/4 [==============================] - 0s 30ms/step - loss: 1.4458e-04 - accuracy: 1.0000 - val_loss: 3.7995 - val_accuracy: 0.6970\n",
      "Epoch 28/50\n",
      "4/4 [==============================] - 0s 33ms/step - loss: 1.2007e-04 - accuracy: 1.0000 - val_loss: 3.7530 - val_accuracy: 0.7576\n",
      "Epoch 29/50\n",
      "4/4 [==============================] - 0s 34ms/step - loss: 1.0026e-04 - accuracy: 1.0000 - val_loss: 3.7233 - val_accuracy: 0.7576\n",
      "Epoch 30/50\n",
      "4/4 [==============================] - 0s 35ms/step - loss: 9.5124e-05 - accuracy: 1.0000 - val_loss: 3.7037 - val_accuracy: 0.7576\n",
      "Epoch 31/50\n",
      "4/4 [==============================] - 0s 37ms/step - loss: 9.2617e-05 - accuracy: 1.0000 - val_loss: 3.6907 - val_accuracy: 0.7576\n",
      "Epoch 32/50\n",
      "4/4 [==============================] - 0s 41ms/step - loss: 9.0810e-05 - accuracy: 1.0000 - val_loss: 3.6827 - val_accuracy: 0.7576\n",
      "Epoch 33/50\n",
      "4/4 [==============================] - 0s 36ms/step - loss: 8.9589e-05 - accuracy: 1.0000 - val_loss: 3.6780 - val_accuracy: 0.7576\n",
      "Epoch 34/50\n",
      "4/4 [==============================] - 0s 34ms/step - loss: 8.8523e-05 - accuracy: 1.0000 - val_loss: 3.6753 - val_accuracy: 0.7576\n",
      "Epoch 35/50\n",
      "4/4 [==============================] - 0s 31ms/step - loss: 8.7778e-05 - accuracy: 1.0000 - val_loss: 3.6735 - val_accuracy: 0.7576\n",
      "Epoch 36/50\n",
      "4/4 [==============================] - 0s 32ms/step - loss: 8.6977e-05 - accuracy: 1.0000 - val_loss: 3.6738 - val_accuracy: 0.7576\n",
      "Epoch 37/50\n",
      "4/4 [==============================] - 0s 33ms/step - loss: 8.5970e-05 - accuracy: 1.0000 - val_loss: 3.6748 - val_accuracy: 0.7576\n",
      "Epoch 38/50\n",
      "4/4 [==============================] - 0s 37ms/step - loss: 8.5086e-05 - accuracy: 1.0000 - val_loss: 3.6779 - val_accuracy: 0.7576\n",
      "Epoch 39/50\n",
      "4/4 [==============================] - 0s 32ms/step - loss: 8.4032e-05 - accuracy: 1.0000 - val_loss: 3.6805 - val_accuracy: 0.7576\n",
      "Epoch 40/50\n",
      "4/4 [==============================] - 0s 38ms/step - loss: 8.2824e-05 - accuracy: 1.0000 - val_loss: 3.6820 - val_accuracy: 0.7576\n",
      "Epoch 41/50\n",
      "4/4 [==============================] - 0s 37ms/step - loss: 8.1838e-05 - accuracy: 1.0000 - val_loss: 3.6832 - val_accuracy: 0.7576\n",
      "Epoch 42/50\n",
      "4/4 [==============================] - 0s 31ms/step - loss: 8.1128e-05 - accuracy: 1.0000 - val_loss: 3.6851 - val_accuracy: 0.7576\n",
      "Epoch 43/50\n",
      "4/4 [==============================] - 0s 34ms/step - loss: 8.0355e-05 - accuracy: 1.0000 - val_loss: 3.6872 - val_accuracy: 0.7576\n",
      "Epoch 44/50\n",
      "4/4 [==============================] - 0s 37ms/step - loss: 7.9603e-05 - accuracy: 1.0000 - val_loss: 3.6890 - val_accuracy: 0.7576\n",
      "Epoch 45/50\n",
      "4/4 [==============================] - 0s 32ms/step - loss: 7.8865e-05 - accuracy: 1.0000 - val_loss: 3.6908 - val_accuracy: 0.7576\n",
      "Epoch 46/50\n",
      "4/4 [==============================] - 0s 35ms/step - loss: 7.7860e-05 - accuracy: 1.0000 - val_loss: 3.6918 - val_accuracy: 0.7576\n",
      "Epoch 47/50\n",
      "4/4 [==============================] - 0s 31ms/step - loss: 7.7203e-05 - accuracy: 1.0000 - val_loss: 3.6926 - val_accuracy: 0.7576\n",
      "Epoch 48/50\n",
      "4/4 [==============================] - 0s 33ms/step - loss: 7.6361e-05 - accuracy: 1.0000 - val_loss: 3.6932 - val_accuracy: 0.7576\n",
      "Epoch 49/50\n",
      "4/4 [==============================] - 0s 35ms/step - loss: 7.5906e-05 - accuracy: 1.0000 - val_loss: 3.6950 - val_accuracy: 0.7576\n",
      "Epoch 50/50\n",
      "4/4 [==============================] - 0s 29ms/step - loss: 7.4871e-05 - accuracy: 1.0000 - val_loss: 3.6953 - val_accuracy: 0.7576\n"
     ]
    }
   ],
   "source": [
    "history = model.fit([X_train_stft, X_train_mfcc, X_train_chroma, X_train_mel],\n",
    "                    y_train,\n",
    "                    batch_size=BATCH_SIZE,\n",
    "                    epochs=EPOCHS,\n",
    "                    validation_data=([X_test_stft, X_test_mfcc, X_test_chroma, X_test_mel], y_test),\n",
    "                    callbacks=[cp_callback],\n",
    "                    verbose=1)"
   ]
  },
  {
   "cell_type": "code",
   "execution_count": 20,
   "id": "6045f739",
   "metadata": {
    "execution": {
     "iopub.execute_input": "2023-11-15T08:15:06.458385Z",
     "iopub.status.busy": "2023-11-15T08:15:06.457920Z",
     "iopub.status.idle": "2023-11-15T08:15:06.751459Z",
     "shell.execute_reply": "2023-11-15T08:15:06.750625Z"
    },
    "papermill": {
     "duration": 0.32772,
     "end_time": "2023-11-15T08:15:06.753546",
     "exception": false,
     "start_time": "2023-11-15T08:15:06.425826",
     "status": "completed"
    },
    "tags": []
   },
   "outputs": [
    {
     "data": {
      "image/png": "[encoded data removed]",
      "text/plain": [
       "<Figure size 640x480 with 1 Axes>"
      ]
     },
     "metadata": {},
     "output_type": "display_data"
    }
   ],
   "source": [
    "plot_history(history)"
   ]
  },
  {
   "cell_type": "code",
   "execution_count": 21,
   "id": "0e9c5483",
   "metadata": {
    "execution": {
     "iopub.execute_input": "2023-11-15T08:15:06.819181Z",
     "iopub.status.busy": "2023-11-15T08:15:06.818120Z",
     "iopub.status.idle": "2023-11-15T08:15:06.958208Z",
     "shell.execute_reply": "2023-11-15T08:15:06.956945Z"
    },
    "papermill": {
     "duration": 0.174909,
     "end_time": "2023-11-15T08:15:06.960714",
     "exception": false,
     "start_time": "2023-11-15T08:15:06.785805",
     "status": "completed"
    },
    "tags": []
   },
   "outputs": [
    {
     "name": "stdout",
     "output_type": "stream",
     "text": [
      "2/2 [==============================] - 0s 6ms/step - loss: 1.9663 - accuracy: 0.7576\n"
     ]
    }
   ],
   "source": [
    "model.load_weights(model_name)\n",
    "test_loss, test_accuracy = model.evaluate([X_test_stft, X_test_mfcc, X_test_chroma, X_test_mel], y_test, verbose=1)\n",
    "row_df = pd.DataFrame({\"EPOCHS\": EPOCHS,\n",
    "                       \"Test_Accuracy\":\"{:5.2f}% \".format(100 * test_accuracy),\n",
    "                       \"Test_Loss\":test_loss}, index=[0])"
   ]
  },
  {
   "cell_type": "code",
   "execution_count": 22,
   "id": "2fbfa0af",
   "metadata": {
    "execution": {
     "iopub.execute_input": "2023-11-15T08:15:07.025568Z",
     "iopub.status.busy": "2023-11-15T08:15:07.024502Z",
     "iopub.status.idle": "2023-11-15T08:15:07.056305Z",
     "shell.execute_reply": "2023-11-15T08:15:07.054902Z"
    },
    "papermill": {
     "duration": 0.067671,
     "end_time": "2023-11-15T08:15:07.059633",
     "exception": false,
     "start_time": "2023-11-15T08:15:06.991962",
     "status": "completed"
    },
    "tags": []
   },
   "outputs": [],
   "source": [
    "model.save_weights(model_name, overwrite=True)"
   ]
  },
  {
   "cell_type": "code",
   "execution_count": 23,
   "id": "f24e3efc",
   "metadata": {
    "execution": {
     "iopub.execute_input": "2023-11-15T08:15:07.124065Z",
     "iopub.status.busy": "2023-11-15T08:15:07.123646Z",
     "iopub.status.idle": "2023-11-15T08:15:07.140435Z",
     "shell.execute_reply": "2023-11-15T08:15:07.139211Z"
    },
    "papermill": {
     "duration": 0.052638,
     "end_time": "2023-11-15T08:15:07.143545",
     "exception": false,
     "start_time": "2023-11-15T08:15:07.090907",
     "status": "completed"
    },
    "tags": []
   },
   "outputs": [
    {
     "data": {
      "text/html": [
       "<div>\n",
       "<style scoped>\n",
       "    .dataframe tbody tr th:only-of-type {\n",
       "        vertical-align: middle;\n",
       "    }\n",
       "\n",
       "    .dataframe tbody tr th {\n",
       "        vertical-align: top;\n",
       "    }\n",
       "\n",
       "    .dataframe thead th {\n",
       "        text-align: right;\n",
       "    }\n",
       "</style>\n",
       "<table border=\"1\" class=\"dataframe\">\n",
       "  <thead>\n",
       "    <tr style=\"text-align: right;\">\n",
       "      <th></th>\n",
       "      <th>EPOCHS</th>\n",
       "      <th>Test_Accuracy</th>\n",
       "      <th>Test_Loss</th>\n",
       "    </tr>\n",
       "  </thead>\n",
       "  <tbody>\n",
       "    <tr>\n",
       "      <th>0</th>\n",
       "      <td>50</td>\n",
       "      <td>75.76%</td>\n",
       "      <td>1.966277</td>\n",
       "    </tr>\n",
       "  </tbody>\n",
       "</table>\n",
       "</div>"
      ],
      "text/plain": [
       "   EPOCHS Test_Accuracy  Test_Loss\n",
       "0      50       75.76%    1.966277"
      ]
     },
     "execution_count": 23,
     "metadata": {},
     "output_type": "execute_result"
    }
   ],
   "source": [
    "row_df"
   ]
  },
  {
   "cell_type": "code",
   "execution_count": null,
   "id": "1d8bbf86",
   "metadata": {
    "papermill": {
     "duration": 0.032224,
     "end_time": "2023-11-15T08:15:07.207858",
     "exception": false,
     "start_time": "2023-11-15T08:15:07.175634",
     "status": "completed"
    },
    "tags": []
   },
   "outputs": [],
   "source": []
  }
 ],
 "metadata": {
  "kaggle": {
   "accelerator": "none",
   "dataSources": [
    {
     "datasetId": 3990556,
     "sourceId": 6948373,
     "sourceType": "datasetVersion"
    },
    {
     "datasetId": 3990537,
     "isSourceIdPinned": true,
     "sourceId": 6965218,
     "sourceType": "datasetVersion"
    }
   ],
   "dockerImageVersionId": 30579,
   "isGpuEnabled": false,
   "isInternetEnabled": true,
   "language": "python",
   "sourceType": "notebook"
  },
  "kernelspec": {
   "display_name": "Python 3",
   "language": "python",
   "name": "python3"
  },
  "language_info": {
   "codemirror_mode": {
    "name": "ipython",
    "version": 3
   },
   "file_extension": ".py",
   "mimetype": "text/x-python",
   "name": "python",
   "nbconvert_exporter": "python",
   "pygments_lexer": "ipython3",
   "version": "3.10.12"
  },
  "papermill": {
   "default_parameters": {},
   "duration": 54.571102,
   "end_time": "2023-11-15T08:15:09.367013",
   "environment_variables": {},
   "exception": null,
   "input_path": "__notebook__.ipynb",
   "output_path": "__notebook__.ipynb",
   "parameters": {},
   "start_time": "2023-11-15T08:14:14.795911",
   "version": "2.4.0"
  }
 },
 "nbformat": 4,
 "nbformat_minor": 5
}
