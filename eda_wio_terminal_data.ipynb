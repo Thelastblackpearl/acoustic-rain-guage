{
 "cells": [
  {
   "cell_type": "code",
   "execution_count": 1,
   "id": "5dbf616c",
   "metadata": {},
   "outputs": [],
   "source": [
    "import numpy as np\n",
    "import pandas as pd\n",
    "import datetime as dt\n",
    "from os.path import join\n",
    "import matplotlib.pyplot as plt\n",
    "import matplotlib.dates as mdates"
   ]
  },
  {
   "cell_type": "code",
   "execution_count": 2,
   "id": "5b9b1c81",
   "metadata": {},
   "outputs": [],
   "source": [
    "plt.rcParams[\"figure.figsize\"] = (15,4)"
   ]
  },
  {
   "cell_type": "code",
   "execution_count": 3,
   "id": "d9d948f4",
   "metadata": {},
   "outputs": [],
   "source": [
    "RECORDING_DIR = \"recordings\"\n",
    "WIO_TERMINAL_FILE = \"wio_terminal_dataset_28_29_30_oct.xlsx\"\n",
    "MECH_READINGS_FILE = \"mechanical_sensor_2.csv\"\n",
    "SOUND_READINGS_FILE = \"sound_sensor_2.csv\""
   ]
  },
  {
   "cell_type": "code",
   "execution_count": 4,
   "id": "ce535e65",
   "metadata": {},
   "outputs": [],
   "source": [
    "mech_cols = [\"date\", \"time\", \"ntipps\", \"rainfall (mm)\"]\n",
    "mech_cols_desired = [\"datetime\", \"ntipps\", \"rainfall (mm)\"]\n",
    "sound_cols = [\"date\", \"time\", \"sound\", \"loudness\"]\n",
    "sound_cols_desired = [\"datetime\", \"sound\", \"loudness\"]\n",
    "wio_cols_desired = [\"time\", \"wio_sound\"]"
   ]
  },
  {
   "cell_type": "code",
   "execution_count": 5,
   "id": "a3f476f6",
   "metadata": {},
   "outputs": [],
   "source": [
    "wio_file_path = join(RECORDING_DIR, WIO_TERMINAL_FILE)\n",
    "wio_data = pd.read_excel(wio_file_path, names=wio_cols_desired)\n",
    "\n",
    "mech_file_path = join(RECORDING_DIR, MECH_READINGS_FILE)\n",
    "mech_data = pd.read_csv(mech_file_path, names=mech_cols)\n",
    "\n",
    "sound_file_path = join(RECORDING_DIR, SOUND_READINGS_FILE)\n",
    "sound_data = pd.read_csv(sound_file_path, names=sound_cols)"
   ]
  },
  {
   "cell_type": "code",
   "execution_count": 6,
   "id": "6b534c3c",
   "metadata": {},
   "outputs": [],
   "source": [
    "cutoff_value = 0.0"
   ]
  },
  {
   "cell_type": "code",
   "execution_count": 7,
   "id": "4239a146",
   "metadata": {},
   "outputs": [],
   "source": [
    "def process_mech_data(df):\n",
    "    df[\"datetime\"] = df[\"date\"]+\" \"+df[\"time\"]\n",
    "    df[\"datetime\"] = pd.to_datetime(df[\"datetime\"])\n",
    "    df = df.drop([\"date\", \"time\"], axis=1)\n",
    "    df = df[mech_cols_desired]\n",
    "    df[\"rainfall (mm)\"] = df[\"rainfall (mm)\"].str.split(\" \").str[1]\n",
    "    df[\"rainfall (mm)\"] = df[\"rainfall (mm)\"].astype(float)\n",
    "    df = df[df[\"rainfall (mm)\"]>cutoff_value]\n",
    "    return df"
   ]
  },
  {
   "cell_type": "code",
   "execution_count": 8,
   "id": "f1489ae4",
   "metadata": {},
   "outputs": [],
   "source": [
    "def process_sound_data(df):\n",
    "    df[\"time\"] = df[\"time\"].str.split(\":\").str[:-1].str.join(\":\")\n",
    "    df[\"date\"] = df[\"date\"].str.split(\"/\").str[::-1].str.join(\"-\")\n",
    "    df[\"datetime\"] = df[\"date\"]+\" \"+df[\"time\"]\n",
    "    df[\"datetime\"] = pd.to_datetime(df[\"datetime\"])\n",
    "    df = df.drop([\"date\", \"time\"], axis=1)\n",
    "    df = df[sound_cols_desired]\n",
    "    df[\"sound\"] = df[\"sound\"].astype(float)\n",
    "    df[\"loudness\"] = df[\"loudness\"].astype(float)\n",
    "    return df"
   ]
  },
  {
   "cell_type": "code",
   "execution_count": 9,
   "id": "850b1ff4",
   "metadata": {},
   "outputs": [
    {
     "name": "stderr",
     "output_type": "stream",
     "text": [
      "/tmp/ipykernel_59414/2306343243.py:5: UserWarning: Parsing dates in %d-%m-%Y  %H:%M format when dayfirst=False (the default) was specified. Pass `dayfirst=True` or specify a format to silence this warning.\n",
      "  df[\"datetime\"] = pd.to_datetime(df[\"datetime\"])\n"
     ]
    }
   ],
   "source": [
    "mech_data = process_mech_data(mech_data)\n",
    "sound_data = process_sound_data(sound_data)"
   ]
  },
  {
   "cell_type": "code",
   "execution_count": 10,
   "id": "1c3896fb",
   "metadata": {},
   "outputs": [
    {
     "data": {
      "text/html": [
       "<div>\n",
       "<style scoped>\n",
       "    .dataframe tbody tr th:only-of-type {\n",
       "        vertical-align: middle;\n",
       "    }\n",
       "\n",
       "    .dataframe tbody tr th {\n",
       "        vertical-align: top;\n",
       "    }\n",
       "\n",
       "    .dataframe thead th {\n",
       "        text-align: right;\n",
       "    }\n",
       "</style>\n",
       "<table border=\"1\" class=\"dataframe\">\n",
       "  <thead>\n",
       "    <tr style=\"text-align: right;\">\n",
       "      <th></th>\n",
       "      <th>datetime</th>\n",
       "      <th>ntipps</th>\n",
       "      <th>rainfall (mm)</th>\n",
       "    </tr>\n",
       "  </thead>\n",
       "  <tbody>\n",
       "    <tr>\n",
       "      <th>11</th>\n",
       "      <td>2023-10-27 17:43:00</td>\n",
       "      <td>1</td>\n",
       "      <td>0.2</td>\n",
       "    </tr>\n",
       "    <tr>\n",
       "      <th>19</th>\n",
       "      <td>2023-10-27 17:51:00</td>\n",
       "      <td>3</td>\n",
       "      <td>0.6</td>\n",
       "    </tr>\n",
       "    <tr>\n",
       "      <th>34</th>\n",
       "      <td>2023-10-27 18:06:00</td>\n",
       "      <td>1</td>\n",
       "      <td>0.2</td>\n",
       "    </tr>\n",
       "    <tr>\n",
       "      <th>1056</th>\n",
       "      <td>2023-10-28 11:08:00</td>\n",
       "      <td>6</td>\n",
       "      <td>1.2</td>\n",
       "    </tr>\n",
       "    <tr>\n",
       "      <th>1058</th>\n",
       "      <td>2023-10-28 11:10:00</td>\n",
       "      <td>6</td>\n",
       "      <td>1.2</td>\n",
       "    </tr>\n",
       "    <tr>\n",
       "      <th>1059</th>\n",
       "      <td>2023-10-28 11:11:00</td>\n",
       "      <td>2</td>\n",
       "      <td>0.4</td>\n",
       "    </tr>\n",
       "  </tbody>\n",
       "</table>\n",
       "</div>"
      ],
      "text/plain": [
       "                datetime  ntipps  rainfall (mm)\n",
       "11   2023-10-27 17:43:00       1            0.2\n",
       "19   2023-10-27 17:51:00       3            0.6\n",
       "34   2023-10-27 18:06:00       1            0.2\n",
       "1056 2023-10-28 11:08:00       6            1.2\n",
       "1058 2023-10-28 11:10:00       6            1.2\n",
       "1059 2023-10-28 11:11:00       2            0.4"
      ]
     },
     "execution_count": 10,
     "metadata": {},
     "output_type": "execute_result"
    }
   ],
   "source": [
    "mech_data"
   ]
  },
  {
   "cell_type": "code",
   "execution_count": 11,
   "id": "73c55583",
   "metadata": {},
   "outputs": [],
   "source": [
    "wio_data.to_csv(join(RECORDING_DIR, \"wio_data.csv\"), index=False)"
   ]
  },
  {
   "cell_type": "code",
   "execution_count": 12,
   "id": "1e9e6a22",
   "metadata": {},
   "outputs": [],
   "source": [
    "timepoints = list(set(sound_data[\"datetime\"]).intersection(mech_data[\"datetime\"]))\n",
    "sound_data = sound_data.loc[sound_data[\"datetime\"].isin(timepoints)]\n",
    "mech_data = mech_data.loc[mech_data[\"datetime\"].isin(timepoints)]"
   ]
  },
  {
   "cell_type": "code",
   "execution_count": 13,
   "id": "a8285410",
   "metadata": {},
   "outputs": [],
   "source": [
    "data_merged = pd.merge(mech_data, sound_data, on=\"datetime\", how=\"inner\")"
   ]
  },
  {
   "cell_type": "code",
   "execution_count": 14,
   "id": "7b52446c",
   "metadata": {},
   "outputs": [],
   "source": [
    "data_merged = pd.merge(mech_data, sound_data, on=\"datetime\", how=\"inner\")\n",
    "data_merged['timedelta'] = (data_merged[\"datetime\"]-data_merged[\"datetime\"].shift()).fillna(pd.Timedelta(0))\n",
    "data_merged[\"timedelta_min\"] = data_merged[\"timedelta\"].dt.total_seconds().div(60).astype(int)"
   ]
  },
  {
   "cell_type": "code",
   "execution_count": 15,
   "id": "32cd4ab6",
   "metadata": {},
   "outputs": [
    {
     "data": {
      "text/plain": [
       "Text(0.5, 1.0, 'Rainfall vs. loudness scatter plot')"
      ]
     },
     "execution_count": 15,
     "metadata": {},
     "output_type": "execute_result"
    },
    {
     "data": {
      "image/png": "[encoded data removed]",
      "text/plain": [
       "<Figure size 1000x300 with 1 Axes>"
      ]
     },
     "metadata": {},
     "output_type": "display_data"
    }
   ],
   "source": [
    "data_merged.plot(x=\"rainfall (mm)\", y=\"loudness\", kind='scatter', rot=45, figsize=(10,3))\n",
    "plt.title(\"Rainfall vs. loudness scatter plot\")"
   ]
  },
  {
   "cell_type": "code",
   "execution_count": 16,
   "id": "45e3b6ef",
   "metadata": {},
   "outputs": [
    {
     "data": {
      "text/html": [
       "<div>\n",
       "<style scoped>\n",
       "    .dataframe tbody tr th:only-of-type {\n",
       "        vertical-align: middle;\n",
       "    }\n",
       "\n",
       "    .dataframe tbody tr th {\n",
       "        vertical-align: top;\n",
       "    }\n",
       "\n",
       "    .dataframe thead th {\n",
       "        text-align: right;\n",
       "    }\n",
       "</style>\n",
       "<table border=\"1\" class=\"dataframe\">\n",
       "  <thead>\n",
       "    <tr style=\"text-align: right;\">\n",
       "      <th></th>\n",
       "      <th>datetime</th>\n",
       "      <th>ntipps</th>\n",
       "      <th>rainfall (mm)</th>\n",
       "      <th>sound</th>\n",
       "      <th>loudness</th>\n",
       "      <th>timedelta</th>\n",
       "      <th>timedelta_min</th>\n",
       "    </tr>\n",
       "  </thead>\n",
       "  <tbody>\n",
       "    <tr>\n",
       "      <th>0</th>\n",
       "      <td>2023-10-27 17:43:00</td>\n",
       "      <td>1</td>\n",
       "      <td>0.2</td>\n",
       "      <td>63.0</td>\n",
       "      <td>31.0</td>\n",
       "      <td>0 days 00:00:00</td>\n",
       "      <td>0</td>\n",
       "    </tr>\n",
       "    <tr>\n",
       "      <th>1</th>\n",
       "      <td>2023-10-27 17:51:00</td>\n",
       "      <td>3</td>\n",
       "      <td>0.6</td>\n",
       "      <td>116.0</td>\n",
       "      <td>25.0</td>\n",
       "      <td>0 days 00:08:00</td>\n",
       "      <td>8</td>\n",
       "    </tr>\n",
       "    <tr>\n",
       "      <th>2</th>\n",
       "      <td>2023-10-27 17:51:00</td>\n",
       "      <td>3</td>\n",
       "      <td>0.6</td>\n",
       "      <td>64.0</td>\n",
       "      <td>33.0</td>\n",
       "      <td>0 days 00:00:00</td>\n",
       "      <td>0</td>\n",
       "    </tr>\n",
       "    <tr>\n",
       "      <th>3</th>\n",
       "      <td>2023-10-27 18:06:00</td>\n",
       "      <td>1</td>\n",
       "      <td>0.2</td>\n",
       "      <td>60.0</td>\n",
       "      <td>29.0</td>\n",
       "      <td>0 days 00:15:00</td>\n",
       "      <td>15</td>\n",
       "    </tr>\n",
       "  </tbody>\n",
       "</table>\n",
       "</div>"
      ],
      "text/plain": [
       "             datetime  ntipps  rainfall (mm)  sound  loudness       timedelta  \\\n",
       "0 2023-10-27 17:43:00       1            0.2   63.0      31.0 0 days 00:00:00   \n",
       "1 2023-10-27 17:51:00       3            0.6  116.0      25.0 0 days 00:08:00   \n",
       "2 2023-10-27 17:51:00       3            0.6   64.0      33.0 0 days 00:00:00   \n",
       "3 2023-10-27 18:06:00       1            0.2   60.0      29.0 0 days 00:15:00   \n",
       "\n",
       "   timedelta_min  \n",
       "0              0  \n",
       "1              8  \n",
       "2              0  \n",
       "3             15  "
      ]
     },
     "execution_count": 16,
     "metadata": {},
     "output_type": "execute_result"
    }
   ],
   "source": [
    "data_merged"
   ]
  },
  {
   "cell_type": "code",
   "execution_count": 17,
   "id": "702e3595",
   "metadata": {},
   "outputs": [
    {
     "data": {
      "text/html": [
       "<div>\n",
       "<style scoped>\n",
       "    .dataframe tbody tr th:only-of-type {\n",
       "        vertical-align: middle;\n",
       "    }\n",
       "\n",
       "    .dataframe tbody tr th {\n",
       "        vertical-align: top;\n",
       "    }\n",
       "\n",
       "    .dataframe thead th {\n",
       "        text-align: right;\n",
       "    }\n",
       "</style>\n",
       "<table border=\"1\" class=\"dataframe\">\n",
       "  <thead>\n",
       "    <tr style=\"text-align: right;\">\n",
       "      <th></th>\n",
       "      <th>datetime</th>\n",
       "      <th>ntipps</th>\n",
       "      <th>rainfall (mm)</th>\n",
       "      <th>sound</th>\n",
       "      <th>loudness</th>\n",
       "      <th>timedelta</th>\n",
       "      <th>timedelta_min</th>\n",
       "    </tr>\n",
       "  </thead>\n",
       "  <tbody>\n",
       "    <tr>\n",
       "      <th>datetime</th>\n",
       "      <td>1.000000</td>\n",
       "      <td>0.000000</td>\n",
       "      <td>0.000000</td>\n",
       "      <td>-0.316228</td>\n",
       "      <td>-0.316228</td>\n",
       "      <td>0.833333</td>\n",
       "      <td>0.833333</td>\n",
       "    </tr>\n",
       "    <tr>\n",
       "      <th>ntipps</th>\n",
       "      <td>0.000000</td>\n",
       "      <td>1.000000</td>\n",
       "      <td>1.000000</td>\n",
       "      <td>0.894427</td>\n",
       "      <td>0.000000</td>\n",
       "      <td>-0.235702</td>\n",
       "      <td>-0.235702</td>\n",
       "    </tr>\n",
       "    <tr>\n",
       "      <th>rainfall (mm)</th>\n",
       "      <td>0.000000</td>\n",
       "      <td>1.000000</td>\n",
       "      <td>1.000000</td>\n",
       "      <td>0.894427</td>\n",
       "      <td>0.000000</td>\n",
       "      <td>-0.235702</td>\n",
       "      <td>-0.235702</td>\n",
       "    </tr>\n",
       "    <tr>\n",
       "      <th>sound</th>\n",
       "      <td>-0.316228</td>\n",
       "      <td>0.894427</td>\n",
       "      <td>0.894427</td>\n",
       "      <td>1.000000</td>\n",
       "      <td>-0.200000</td>\n",
       "      <td>-0.316228</td>\n",
       "      <td>-0.316228</td>\n",
       "    </tr>\n",
       "    <tr>\n",
       "      <th>loudness</th>\n",
       "      <td>-0.316228</td>\n",
       "      <td>0.000000</td>\n",
       "      <td>0.000000</td>\n",
       "      <td>-0.200000</td>\n",
       "      <td>1.000000</td>\n",
       "      <td>-0.737865</td>\n",
       "      <td>-0.737865</td>\n",
       "    </tr>\n",
       "    <tr>\n",
       "      <th>timedelta</th>\n",
       "      <td>0.833333</td>\n",
       "      <td>-0.235702</td>\n",
       "      <td>-0.235702</td>\n",
       "      <td>-0.316228</td>\n",
       "      <td>-0.737865</td>\n",
       "      <td>1.000000</td>\n",
       "      <td>1.000000</td>\n",
       "    </tr>\n",
       "    <tr>\n",
       "      <th>timedelta_min</th>\n",
       "      <td>0.833333</td>\n",
       "      <td>-0.235702</td>\n",
       "      <td>-0.235702</td>\n",
       "      <td>-0.316228</td>\n",
       "      <td>-0.737865</td>\n",
       "      <td>1.000000</td>\n",
       "      <td>1.000000</td>\n",
       "    </tr>\n",
       "  </tbody>\n",
       "</table>\n",
       "</div>"
      ],
      "text/plain": [
       "               datetime    ntipps  rainfall (mm)     sound  loudness  \\\n",
       "datetime       1.000000  0.000000       0.000000 -0.316228 -0.316228   \n",
       "ntipps         0.000000  1.000000       1.000000  0.894427  0.000000   \n",
       "rainfall (mm)  0.000000  1.000000       1.000000  0.894427  0.000000   \n",
       "sound         -0.316228  0.894427       0.894427  1.000000 -0.200000   \n",
       "loudness      -0.316228  0.000000       0.000000 -0.200000  1.000000   \n",
       "timedelta      0.833333 -0.235702      -0.235702 -0.316228 -0.737865   \n",
       "timedelta_min  0.833333 -0.235702      -0.235702 -0.316228 -0.737865   \n",
       "\n",
       "               timedelta  timedelta_min  \n",
       "datetime        0.833333       0.833333  \n",
       "ntipps         -0.235702      -0.235702  \n",
       "rainfall (mm)  -0.235702      -0.235702  \n",
       "sound          -0.316228      -0.316228  \n",
       "loudness       -0.737865      -0.737865  \n",
       "timedelta       1.000000       1.000000  \n",
       "timedelta_min   1.000000       1.000000  "
      ]
     },
     "execution_count": 17,
     "metadata": {},
     "output_type": "execute_result"
    }
   ],
   "source": [
    "data_merged.corr(method='spearman')"
   ]
  },
  {
   "cell_type": "code",
   "execution_count": 18,
   "id": "3edbfe9e",
   "metadata": {},
   "outputs": [
    {
     "data": {
      "text/html": [
       "<div>\n",
       "<style scoped>\n",
       "    .dataframe tbody tr th:only-of-type {\n",
       "        vertical-align: middle;\n",
       "    }\n",
       "\n",
       "    .dataframe tbody tr th {\n",
       "        vertical-align: top;\n",
       "    }\n",
       "\n",
       "    .dataframe thead th {\n",
       "        text-align: right;\n",
       "    }\n",
       "</style>\n",
       "<table border=\"1\" class=\"dataframe\">\n",
       "  <thead>\n",
       "    <tr style=\"text-align: right;\">\n",
       "      <th></th>\n",
       "      <th>time</th>\n",
       "      <th>wio_sound</th>\n",
       "    </tr>\n",
       "  </thead>\n",
       "  <tbody>\n",
       "    <tr>\n",
       "      <th>0</th>\n",
       "      <td>00:04:49</td>\n",
       "      <td>441</td>\n",
       "    </tr>\n",
       "    <tr>\n",
       "      <th>1</th>\n",
       "      <td>00:04:49</td>\n",
       "      <td>419</td>\n",
       "    </tr>\n",
       "    <tr>\n",
       "      <th>2</th>\n",
       "      <td>00:04:49</td>\n",
       "      <td>389</td>\n",
       "    </tr>\n",
       "    <tr>\n",
       "      <th>3</th>\n",
       "      <td>00:04:50</td>\n",
       "      <td>383</td>\n",
       "    </tr>\n",
       "    <tr>\n",
       "      <th>4</th>\n",
       "      <td>00:04:50</td>\n",
       "      <td>398</td>\n",
       "    </tr>\n",
       "  </tbody>\n",
       "</table>\n",
       "</div>"
      ],
      "text/plain": [
       "       time  wio_sound\n",
       "0  00:04:49        441\n",
       "1  00:04:49        419\n",
       "2  00:04:49        389\n",
       "3  00:04:50        383\n",
       "4  00:04:50        398"
      ]
     },
     "execution_count": 18,
     "metadata": {},
     "output_type": "execute_result"
    }
   ],
   "source": [
    "wio_data.head(5)"
   ]
  },
  {
   "cell_type": "code",
   "execution_count": 19,
   "id": "4867aec5",
   "metadata": {},
   "outputs": [],
   "source": [
    "wio_data[\"time\"] = pd.to_datetime(wio_data[\"time\"], format=\"%H:%M:%S\")"
   ]
  },
  {
   "cell_type": "code",
   "execution_count": 20,
   "id": "d8812a70",
   "metadata": {},
   "outputs": [],
   "source": [
    "# wio_data = wio_data.sort_values(by=\"time\")"
   ]
  },
  {
   "cell_type": "code",
   "execution_count": 21,
   "id": "d3fd10f8",
   "metadata": {},
   "outputs": [
    {
     "data": {
      "image/png": "[encoded data removed]",
      "text/plain": [
       "<Figure size 1500x400 with 1 Axes>"
      ]
     },
     "metadata": {},
     "output_type": "display_data"
    }
   ],
   "source": [
    "plt.plot(wio_data[\"time\"], wio_data[\"wio_sound\"])\n",
    "xformatter = mdates.DateFormatter('%H:%M')\n",
    "plt.gcf().axes[0].xaxis.set_major_formatter(xformatter)"
   ]
  },
  {
   "cell_type": "code",
   "execution_count": 22,
   "id": "3dae7fa0",
   "metadata": {},
   "outputs": [
    {
     "data": {
      "text/html": [
       "<div>\n",
       "<style scoped>\n",
       "    .dataframe tbody tr th:only-of-type {\n",
       "        vertical-align: middle;\n",
       "    }\n",
       "\n",
       "    .dataframe tbody tr th {\n",
       "        vertical-align: top;\n",
       "    }\n",
       "\n",
       "    .dataframe thead th {\n",
       "        text-align: right;\n",
       "    }\n",
       "</style>\n",
       "<table border=\"1\" class=\"dataframe\">\n",
       "  <thead>\n",
       "    <tr style=\"text-align: right;\">\n",
       "      <th></th>\n",
       "      <th>time</th>\n",
       "      <th>wio_sound</th>\n",
       "    </tr>\n",
       "  </thead>\n",
       "  <tbody>\n",
       "    <tr>\n",
       "      <th>0</th>\n",
       "      <td>1900-01-01 00:04:49</td>\n",
       "      <td>441</td>\n",
       "    </tr>\n",
       "    <tr>\n",
       "      <th>1</th>\n",
       "      <td>1900-01-01 00:04:49</td>\n",
       "      <td>419</td>\n",
       "    </tr>\n",
       "    <tr>\n",
       "      <th>2</th>\n",
       "      <td>1900-01-01 00:04:49</td>\n",
       "      <td>389</td>\n",
       "    </tr>\n",
       "    <tr>\n",
       "      <th>3</th>\n",
       "      <td>1900-01-01 00:04:50</td>\n",
       "      <td>383</td>\n",
       "    </tr>\n",
       "    <tr>\n",
       "      <th>4</th>\n",
       "      <td>1900-01-01 00:04:50</td>\n",
       "      <td>398</td>\n",
       "    </tr>\n",
       "    <tr>\n",
       "      <th>...</th>\n",
       "      <td>...</td>\n",
       "      <td>...</td>\n",
       "    </tr>\n",
       "    <tr>\n",
       "      <th>525167</th>\n",
       "      <td>1900-01-01 00:01:17</td>\n",
       "      <td>489</td>\n",
       "    </tr>\n",
       "    <tr>\n",
       "      <th>525168</th>\n",
       "      <td>1900-01-01 00:01:17</td>\n",
       "      <td>448</td>\n",
       "    </tr>\n",
       "    <tr>\n",
       "      <th>525169</th>\n",
       "      <td>1900-01-01 00:01:17</td>\n",
       "      <td>472</td>\n",
       "    </tr>\n",
       "    <tr>\n",
       "      <th>525170</th>\n",
       "      <td>1900-01-01 00:01:17</td>\n",
       "      <td>482</td>\n",
       "    </tr>\n",
       "    <tr>\n",
       "      <th>525171</th>\n",
       "      <td>1900-01-01 00:01:17</td>\n",
       "      <td>452</td>\n",
       "    </tr>\n",
       "  </tbody>\n",
       "</table>\n",
       "<p>525172 rows × 2 columns</p>\n",
       "</div>"
      ],
      "text/plain": [
       "                      time  wio_sound\n",
       "0      1900-01-01 00:04:49        441\n",
       "1      1900-01-01 00:04:49        419\n",
       "2      1900-01-01 00:04:49        389\n",
       "3      1900-01-01 00:04:50        383\n",
       "4      1900-01-01 00:04:50        398\n",
       "...                    ...        ...\n",
       "525167 1900-01-01 00:01:17        489\n",
       "525168 1900-01-01 00:01:17        448\n",
       "525169 1900-01-01 00:01:17        472\n",
       "525170 1900-01-01 00:01:17        482\n",
       "525171 1900-01-01 00:01:17        452\n",
       "\n",
       "[525172 rows x 2 columns]"
      ]
     },
     "execution_count": 22,
     "metadata": {},
     "output_type": "execute_result"
    }
   ],
   "source": [
    "wio_data"
   ]
  },
  {
   "cell_type": "code",
   "execution_count": null,
   "id": "0f4be8d0",
   "metadata": {},
   "outputs": [],
   "source": []
  }
 ],
 "metadata": {
  "kernelspec": {
   "display_name": "venv",
   "language": "python",
   "name": "venv"
  },
  "language_info": {
   "codemirror_mode": {
    "name": "ipython",
    "version": 3
   },
   "file_extension": ".py",
   "mimetype": "text/x-python",
   "name": "python",
   "nbconvert_exporter": "python",
   "pygments_lexer": "ipython3",
   "version": "3.10.12"
  }
 },
 "nbformat": 4,
 "nbformat_minor": 5
}
